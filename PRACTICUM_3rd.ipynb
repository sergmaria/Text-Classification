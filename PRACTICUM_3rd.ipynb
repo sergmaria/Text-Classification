{
 "cells": [
  {
   "cell_type": "code",
   "execution_count": 1,
   "metadata": {},
   "outputs": [],
   "source": [
    "import pandas as pd \n",
    "import numpy as np\n",
    "\n",
    "from sklearn.feature_extraction.text import CountVectorizer\n",
    "from sklearn.feature_extraction.text import TfidfTransformer\n",
    "from sklearn.naive_bayes import MultinomialNB\n",
    "from sklearn.pipeline import Pipeline\n",
    "import numpy as np\n",
    "from sklearn.metrics import classification_report\n",
    "\n",
    "from plotnine import *\n",
    "import matplotlib.pyplot as plt\n",
    "import seaborn as sns\n",
    "from sklearn.model_selection import train_test_split\n",
    "from scipy import signal\n",
    "\n",
    "%matplotlib inline"
   ]
  },
  {
   "cell_type": "code",
   "execution_count": 2,
   "metadata": {},
   "outputs": [
    {
     "name": "stdout",
     "output_type": "stream",
     "text": [
      "Requirement already up-to-date: spacy in c:\\users\\maria\\anaconda3\\lib\\site-packages (3.2.2)\n",
      "Requirement already satisfied, skipping upgrade: packaging>=20.0 in c:\\users\\maria\\anaconda3\\lib\\site-packages (from spacy) (20.4)\n",
      "Requirement already satisfied, skipping upgrade: spacy-loggers<2.0.0,>=1.0.0 in c:\\users\\maria\\anaconda3\\lib\\site-packages (from spacy) (1.0.1)\n",
      "Requirement already satisfied, skipping upgrade: pathy>=0.3.5 in c:\\users\\maria\\anaconda3\\lib\\site-packages (from spacy) (0.4.0)\n",
      "Requirement already satisfied, skipping upgrade: srsly<3.0.0,>=2.4.1 in c:\\users\\maria\\anaconda3\\lib\\site-packages (from spacy) (2.4.2)\n",
      "Requirement already satisfied, skipping upgrade: pydantic!=1.8,!=1.8.1,<1.9.0,>=1.7.4 in c:\\users\\maria\\anaconda3\\lib\\site-packages (from spacy) (1.8.2)\n",
      "Requirement already satisfied, skipping upgrade: catalogue<2.1.0,>=2.0.6 in c:\\users\\maria\\anaconda3\\lib\\site-packages (from spacy) (2.0.6)\n",
      "Requirement already satisfied, skipping upgrade: jinja2 in c:\\users\\maria\\anaconda3\\lib\\site-packages (from spacy) (2.11.2)\n",
      "Requirement already satisfied, skipping upgrade: langcodes<4.0.0,>=3.2.0 in c:\\users\\maria\\anaconda3\\lib\\site-packages (from spacy) (3.3.0)\n",
      "Requirement already satisfied, skipping upgrade: spacy-legacy<3.1.0,>=3.0.8 in c:\\users\\maria\\anaconda3\\lib\\site-packages (from spacy) (3.0.8)\n",
      "Requirement already satisfied, skipping upgrade: numpy>=1.15.0 in c:\\users\\maria\\anaconda3\\lib\\site-packages (from spacy) (1.19.2)\n",
      "Requirement already satisfied, skipping upgrade: blis<0.8.0,>=0.4.0 in c:\\users\\maria\\anaconda3\\lib\\site-packages (from spacy) (0.7.4)\n",
      "Requirement already satisfied, skipping upgrade: wasabi<1.1.0,>=0.8.1 in c:\\users\\maria\\anaconda3\\lib\\site-packages (from spacy) (0.8.2)\n",
      "Requirement already satisfied, skipping upgrade: typer<0.5.0,>=0.3.0 in c:\\users\\maria\\anaconda3\\lib\\site-packages (from spacy) (0.3.2)\n",
      "Requirement already satisfied, skipping upgrade: requests<3.0.0,>=2.13.0 in c:\\users\\maria\\anaconda3\\lib\\site-packages (from spacy) (2.24.0)\n",
      "Requirement already satisfied, skipping upgrade: tqdm<5.0.0,>=4.38.0 in c:\\users\\maria\\anaconda3\\lib\\site-packages (from spacy) (4.50.2)\n",
      "Requirement already satisfied, skipping upgrade: murmurhash<1.1.0,>=0.28.0 in c:\\users\\maria\\anaconda3\\lib\\site-packages (from spacy) (1.0.5)\n",
      "Requirement already satisfied, skipping upgrade: preshed<3.1.0,>=3.0.2 in c:\\users\\maria\\anaconda3\\lib\\site-packages (from spacy) (3.0.5)\n",
      "Requirement already satisfied, skipping upgrade: cymem<2.1.0,>=2.0.2 in c:\\users\\maria\\anaconda3\\lib\\site-packages (from spacy) (2.0.5)\n",
      "Requirement already satisfied, skipping upgrade: setuptools in c:\\users\\maria\\anaconda3\\lib\\site-packages (from spacy) (50.3.1.post20201107)\n",
      "Requirement already satisfied, skipping upgrade: thinc<8.1.0,>=8.0.12 in c:\\users\\maria\\anaconda3\\lib\\site-packages (from spacy) (8.0.13)\n",
      "Requirement already satisfied, skipping upgrade: six in c:\\users\\maria\\anaconda3\\lib\\site-packages (from packaging>=20.0->spacy) (1.15.0)\n",
      "Requirement already satisfied, skipping upgrade: pyparsing>=2.0.2 in c:\\users\\maria\\anaconda3\\lib\\site-packages (from packaging>=20.0->spacy) (2.4.7)\n",
      "Requirement already satisfied, skipping upgrade: smart-open<4.0.0,>=2.2.0 in c:\\users\\maria\\anaconda3\\lib\\site-packages (from pathy>=0.3.5->spacy) (3.0.0)\n",
      "Requirement already satisfied, skipping upgrade: typing-extensions>=3.7.4.3 in c:\\users\\maria\\anaconda3\\lib\\site-packages (from pydantic!=1.8,!=1.8.1,<1.9.0,>=1.7.4->spacy) (3.7.4.3)\n",
      "Requirement already satisfied, skipping upgrade: MarkupSafe>=0.23 in c:\\users\\maria\\anaconda3\\lib\\site-packages (from jinja2->spacy) (1.1.1)\n",
      "Requirement already satisfied, skipping upgrade: click<7.2.0,>=7.1.1 in c:\\users\\maria\\anaconda3\\lib\\site-packages (from typer<0.5.0,>=0.3.0->spacy) (7.1.2)\n",
      "Requirement already satisfied, skipping upgrade: idna<3,>=2.5 in c:\\users\\maria\\anaconda3\\lib\\site-packages (from requests<3.0.0,>=2.13.0->spacy) (2.10)\n",
      "Requirement already satisfied, skipping upgrade: urllib3!=1.25.0,!=1.25.1,<1.26,>=1.21.1 in c:\\users\\maria\\anaconda3\\lib\\site-packages (from requests<3.0.0,>=2.13.0->spacy) (1.25.11)\n",
      "Requirement already satisfied, skipping upgrade: certifi>=2017.4.17 in c:\\users\\maria\\anaconda3\\lib\\site-packages (from requests<3.0.0,>=2.13.0->spacy) (2020.6.20)\n",
      "Requirement already satisfied, skipping upgrade: chardet<4,>=3.0.2 in c:\\users\\maria\\anaconda3\\lib\\site-packages (from requests<3.0.0,>=2.13.0->spacy) (3.0.4)\n",
      "Note: you may need to restart the kernel to use updated packages.\n"
     ]
    }
   ],
   "source": [
    "pip install -U spacy"
   ]
  },
  {
   "cell_type": "code",
   "execution_count": null,
   "metadata": {},
   "outputs": [],
   "source": []
  },
  {
   "cell_type": "markdown",
   "metadata": {},
   "source": [
    "# Data Selection and Preparation.\n"
   ]
  },
  {
   "cell_type": "markdown",
   "metadata": {},
   "source": [
    "**So I am starting the process of data exploration by importing the data and observe their structure. Then I go on by checking their datatypes and see if I need to make some changes.**"
   ]
  },
  {
   "cell_type": "code",
   "execution_count": 3,
   "metadata": {},
   "outputs": [
    {
     "name": "stdout",
     "output_type": "stream",
     "text": [
      "(1194407, 8)\n"
     ]
    },
    {
     "data": {
      "text/html": [
       "<div>\n",
       "<style scoped>\n",
       "    .dataframe tbody tr th:only-of-type {\n",
       "        vertical-align: middle;\n",
       "    }\n",
       "\n",
       "    .dataframe tbody tr th {\n",
       "        vertical-align: top;\n",
       "    }\n",
       "\n",
       "    .dataframe thead th {\n",
       "        text-align: right;\n",
       "    }\n",
       "</style>\n",
       "<table border=\"1\" class=\"dataframe\">\n",
       "  <thead>\n",
       "    <tr style=\"text-align: right;\">\n",
       "      <th></th>\n",
       "      <th>member_name</th>\n",
       "      <th>sitting_date</th>\n",
       "      <th>parliamentary_period</th>\n",
       "      <th>parliamentary_session</th>\n",
       "      <th>parliamentary_sitting</th>\n",
       "      <th>political_party</th>\n",
       "      <th>speaker_info</th>\n",
       "      <th>speech</th>\n",
       "    </tr>\n",
       "  </thead>\n",
       "  <tbody>\n",
       "    <tr>\n",
       "      <th>0</th>\n",
       "      <td>κρητικος νικολαου παναγιωτης</td>\n",
       "      <td>1989-07-03</td>\n",
       "      <td>period 5</td>\n",
       "      <td>session 1</td>\n",
       "      <td>sitting 1</td>\n",
       "      <td>πανελληνιο σοσιαλιστικο κινημα</td>\n",
       "      <td>προεδρευων</td>\n",
       "      <td>Παρακαλείται ο Γραμματέας κ. Βουλγαράκης να σ...</td>\n",
       "    </tr>\n",
       "    <tr>\n",
       "      <th>1</th>\n",
       "      <td>κρητικος νικολαου παναγιωτης</td>\n",
       "      <td>1989-07-03</td>\n",
       "      <td>period 5</td>\n",
       "      <td>session 1</td>\n",
       "      <td>sitting 1</td>\n",
       "      <td>πανελληνιο σοσιαλιστικο κινημα</td>\n",
       "      <td>προεδρευων</td>\n",
       "      <td>Παρακαλείται ο κύριος Γραμματέας να συνοδεύσε...</td>\n",
       "    </tr>\n",
       "    <tr>\n",
       "      <th>2</th>\n",
       "      <td>κρητικος νικολαου παναγιωτης</td>\n",
       "      <td>1989-07-03</td>\n",
       "      <td>period 5</td>\n",
       "      <td>session 1</td>\n",
       "      <td>sitting 1</td>\n",
       "      <td>πανελληνιο σοσιαλιστικο κινημα</td>\n",
       "      <td>προεδρευων</td>\n",
       "      <td>Κύριοι συνάδελφοι, παρακαλώ τη Βουλή να εξουσ...</td>\n",
       "    </tr>\n",
       "    <tr>\n",
       "      <th>3</th>\n",
       "      <td>NaN</td>\n",
       "      <td>1989-07-03</td>\n",
       "      <td>period 5</td>\n",
       "      <td>session 1</td>\n",
       "      <td>sitting 1</td>\n",
       "      <td>βουλη</td>\n",
       "      <td>βουλευτης/ες</td>\n",
       "      <td>Μάλιστα, μάλιστα.</td>\n",
       "    </tr>\n",
       "    <tr>\n",
       "      <th>4</th>\n",
       "      <td>κρητικος νικολαου παναγιωτης</td>\n",
       "      <td>1989-07-03</td>\n",
       "      <td>period 5</td>\n",
       "      <td>session 1</td>\n",
       "      <td>sitting 1</td>\n",
       "      <td>πανελληνιο σοσιαλιστικο κινημα</td>\n",
       "      <td>προεδρευων</td>\n",
       "      <td>Η Βουλή παρέσχε τη ζητηθείσα εξουσιοδότηση. Μ...</td>\n",
       "    </tr>\n",
       "  </tbody>\n",
       "</table>\n",
       "</div>"
      ],
      "text/plain": [
       "                    member_name sitting_date parliamentary_period  \\\n",
       "0  κρητικος νικολαου παναγιωτης   1989-07-03             period 5   \n",
       "1  κρητικος νικολαου παναγιωτης   1989-07-03             period 5   \n",
       "2  κρητικος νικολαου παναγιωτης   1989-07-03             period 5   \n",
       "3                           NaN   1989-07-03             period 5   \n",
       "4  κρητικος νικολαου παναγιωτης   1989-07-03             period 5   \n",
       "\n",
       "  parliamentary_session parliamentary_sitting                 political_party  \\\n",
       "0             session 1             sitting 1  πανελληνιο σοσιαλιστικο κινημα   \n",
       "1             session 1             sitting 1  πανελληνιο σοσιαλιστικο κινημα   \n",
       "2             session 1             sitting 1  πανελληνιο σοσιαλιστικο κινημα   \n",
       "3             session 1             sitting 1                           βουλη   \n",
       "4             session 1             sitting 1  πανελληνιο σοσιαλιστικο κινημα   \n",
       "\n",
       "   speaker_info                                             speech  \n",
       "0    προεδρευων   Παρακαλείται ο Γραμματέας κ. Βουλγαράκης να σ...  \n",
       "1    προεδρευων   Παρακαλείται ο κύριος Γραμματέας να συνοδεύσε...  \n",
       "2    προεδρευων   Κύριοι συνάδελφοι, παρακαλώ τη Βουλή να εξουσ...  \n",
       "3  βουλευτης/ες                                  Μάλιστα, μάλιστα.  \n",
       "4    προεδρευων   Η Βουλή παρέσχε τη ζητηθείσα εξουσιοδότηση. Μ...  "
      ]
     },
     "execution_count": 3,
     "metadata": {},
     "output_type": "execute_result"
    }
   ],
   "source": [
    "proceedings = pd.read_csv('Greek_Parliament_Proceedings_1989_2019.csv',  \n",
    "                  index_col=False \n",
    "                  )\n",
    "print(proceedings.shape)\n",
    "proceedings.head()"
   ]
  },
  {
   "cell_type": "code",
   "execution_count": 4,
   "metadata": {},
   "outputs": [
    {
     "data": {
      "text/plain": [
       "member_name              object\n",
       "sitting_date             object\n",
       "parliamentary_period     object\n",
       "parliamentary_session    object\n",
       "parliamentary_sitting    object\n",
       "political_party          object\n",
       "speaker_info             object\n",
       "speech                   object\n",
       "dtype: object"
      ]
     },
     "execution_count": 4,
     "metadata": {},
     "output_type": "execute_result"
    }
   ],
   "source": [
    "proceedings.dtypes"
   ]
  },
  {
   "cell_type": "markdown",
   "metadata": {},
   "source": [
    "**I see that the sitting date is not in a date format so I will change it and then I will deal with the missing values.**"
   ]
  },
  {
   "cell_type": "code",
   "execution_count": 5,
   "metadata": {},
   "outputs": [
    {
     "data": {
      "text/plain": [
       "member_name               47289\n",
       "sitting_date                  0\n",
       "parliamentary_period          0\n",
       "parliamentary_session         0\n",
       "parliamentary_sitting         0\n",
       "political_party             162\n",
       "speaker_info             543871\n",
       "speech                       10\n",
       "dtype: int64"
      ]
     },
     "execution_count": 5,
     "metadata": {},
     "output_type": "execute_result"
    }
   ],
   "source": [
    "proceedings.isna().sum()"
   ]
  },
  {
   "cell_type": "code",
   "execution_count": 6,
   "metadata": {},
   "outputs": [
    {
     "data": {
      "text/plain": [
       "member_name                      object\n",
       "sitting_date             datetime64[ns]\n",
       "parliamentary_period             object\n",
       "parliamentary_session            object\n",
       "parliamentary_sitting            object\n",
       "political_party                  object\n",
       "speaker_info                     object\n",
       "speech                           object\n",
       "dtype: object"
      ]
     },
     "execution_count": 6,
     "metadata": {},
     "output_type": "execute_result"
    }
   ],
   "source": [
    "proceedings['sitting_date'] = pd.to_datetime(proceedings['sitting_date'].astype('str'), format='%Y-%m-%d')\n",
    "\n",
    "proceedings.dtypes"
   ]
  },
  {
   "cell_type": "markdown",
   "metadata": {},
   "source": [
    "**Continuing on, I have to make clearer the data that are about the parties and the speakers. I have a 227614 missing values for the speakers info and 69 for the political parties and since I cannot have information about them I am going to remove th missing values. Also, I am removing  the speech missing values because without the speech I cannot analyze further its content.**"
   ]
  },
  {
   "cell_type": "code",
   "execution_count": 7,
   "metadata": {},
   "outputs": [
    {
     "data": {
      "text/plain": [
       "member_name               47165\n",
       "sitting_date                  0\n",
       "parliamentary_period          0\n",
       "parliamentary_session         0\n",
       "parliamentary_sitting         0\n",
       "political_party               0\n",
       "speaker_info             543867\n",
       "speech                        0\n",
       "dtype: int64"
      ]
     },
     "execution_count": 7,
     "metadata": {},
     "output_type": "execute_result"
    }
   ],
   "source": [
    "proceedings.dropna(subset=['political_party','speech'], inplace=True)\n",
    "\n",
    "\n",
    "proceedings.isna().sum()"
   ]
  },
  {
   "cell_type": "code",
   "execution_count": 8,
   "metadata": {},
   "outputs": [
    {
     "name": "stdout",
     "output_type": "stream",
     "text": [
      "(1194235, 8)\n"
     ]
    }
   ],
   "source": [
    "print (proceedings.shape)"
   ]
  },
  {
   "cell_type": "code",
   "execution_count": 9,
   "metadata": {},
   "outputs": [
    {
     "data": {
      "text/plain": [
       "νεα δημοκρατια                                                                     385634\n",
       "πανελληνιο σοσιαλιστικο κινημα                                                     377680\n",
       "συνασπισμος ριζοσπαστικης αριστερας                                                126572\n",
       "κομμουνιστικο κομμα ελλαδας                                                         78631\n",
       "βουλη                                                                               45876\n",
       "συνασπισμος της αριστερας των κινηματων και της οικολογιας                          35891\n",
       "ανεξαρτητοι (εκτος κομματος)                                                        29951\n",
       "λαικος ορθοδοξος συναγερμος                                                         23686\n",
       "δημοκρατικη συμπαραταξη (πανελληνιο σοσιαλιστικο κινημα - δημοκρατικη αριστερα)     22991\n",
       "λαικος συνδεσος - χρυση αυγη                                                        14172\n",
       "ανεξαρτητοι ελληνες - πανος καμμενος                                                13785\n",
       "ενωση κεντρωων                                                                       9888\n",
       "το ποταμι                                                                            7672\n",
       "δημοκρατικο κοινωνικο κινημα                                                         6056\n",
       "ανεξαρτητοι ελληνες εθνικη πατριωτικη δημοκρατικη συμμαχια                           5521\n",
       "δημοκρατικη αριστερα                                                                 4204\n",
       "πολιτικη ανοιξη                                                                      3384\n",
       "ανεξαρτητοι δημοκρατικοι βουλευτες                                                   1769\n",
       "λαικη ενοτητα                                                                         346\n",
       "οικολογοι εναλλακτικοι (ομοσπονδια οικολογικων εναλλακτικων οργανωσεων)               307\n",
       "κομμουνιστικο κομμα ελλαδας εσωτερικου                                                202\n",
       "αντιπολιτευση                                                                          11\n",
       "δημοκρατικη ανανεωση                                                                    6\n",
       "Name: political_party, dtype: int64"
      ]
     },
     "execution_count": 9,
     "metadata": {},
     "output_type": "execute_result"
    }
   ],
   "source": [
    "proceedings['political_party'].value_counts()"
   ]
  },
  {
   "cell_type": "markdown",
   "metadata": {},
   "source": [
    "**From what I see here not all the values assigned to the political party variable are actually a political party such as  'βουλη', 'αντιπολιτευση' and  'ανεξαρτητοι(εκτος κομματος)'  which from their name only we understand that they do not belong to a political party. Αlsο, I am removing  'οικολογοι εναλλακτικοι'  because after a qucik search I saw that they are an organisation with political voice but not an actual political party and  'ανεξαρτητοι δημοκρατικοι βουλευτες'  because this was a group active only from 2013 to 2015 and including it does not help the analysis. Moreover, I am removing  'δημοκρατικη ανανεωση'  not only because I have very few data about it but it seized to exist in 1996 after 10 years of action and I am removing  'λαικη ενοτητα'  beacause of the few speeches but also beacause it is a relatively new political party which was founded in 2015. Last,I am removing  'κομμουνιστικο κομμα ελλαδας εσωτερικου'  because it seized to exist since 1987.**"
   ]
  },
  {
   "cell_type": "code",
   "execution_count": 10,
   "metadata": {},
   "outputs": [
    {
     "data": {
      "text/plain": [
       "νεα δημοκρατια                                                                     385634\n",
       "πανελληνιο σοσιαλιστικο κινημα                                                     377680\n",
       "συνασπισμος ριζοσπαστικης αριστερας                                                126572\n",
       "κομμουνιστικο κομμα ελλαδας                                                         78631\n",
       "συνασπισμος της αριστερας των κινηματων και της οικολογιας                          35891\n",
       "λαικος ορθοδοξος συναγερμος                                                         23686\n",
       "δημοκρατικη συμπαραταξη (πανελληνιο σοσιαλιστικο κινημα - δημοκρατικη αριστερα)     22991\n",
       "λαικος συνδεσος - χρυση αυγη                                                        14172\n",
       "ανεξαρτητοι ελληνες - πανος καμμενος                                                13785\n",
       "ενωση κεντρωων                                                                       9888\n",
       "το ποταμι                                                                            7672\n",
       "δημοκρατικο κοινωνικο κινημα                                                         6056\n",
       "ανεξαρτητοι ελληνες εθνικη πατριωτικη δημοκρατικη συμμαχια                           5521\n",
       "δημοκρατικη αριστερα                                                                 4204\n",
       "πολιτικη ανοιξη                                                                      3384\n",
       "Name: political_party, dtype: int64"
      ]
     },
     "execution_count": 10,
     "metadata": {},
     "output_type": "execute_result"
    }
   ],
   "source": [
    "proceedings = proceedings[~(proceedings['political_party'].isin(['βουλη', 'ανεξαρτητοι (εκτος κομματος)',\n",
    "                                                                 'αντιπολιτευση',\n",
    "                                                                 'οικολογοι εναλλακτικοι (ομοσπονδια οικολογικων εναλλακτικων οργανωσεων)',\n",
    "                                                                'ανεξαρτητοι δημοκρατικοι βουλευτες',\n",
    "                                                                'δημοκρατικη ανανεωση','λαικη ενοτητα',\n",
    "                                                                'κομμουνιστικο κομμα ελλαδας εσωτερικου']))]\n",
    "\n",
    "proceedings['political_party'].value_counts()"
   ]
  },
  {
   "cell_type": "code",
   "execution_count": 11,
   "metadata": {},
   "outputs": [
    {
     "name": "stdout",
     "output_type": "stream",
     "text": [
      "(1115767, 8)\n"
     ]
    },
    {
     "data": {
      "text/html": [
       "<div>\n",
       "<style scoped>\n",
       "    .dataframe tbody tr th:only-of-type {\n",
       "        vertical-align: middle;\n",
       "    }\n",
       "\n",
       "    .dataframe tbody tr th {\n",
       "        vertical-align: top;\n",
       "    }\n",
       "\n",
       "    .dataframe thead th {\n",
       "        text-align: right;\n",
       "    }\n",
       "</style>\n",
       "<table border=\"1\" class=\"dataframe\">\n",
       "  <thead>\n",
       "    <tr style=\"text-align: right;\">\n",
       "      <th></th>\n",
       "      <th>member_name</th>\n",
       "      <th>sitting_date</th>\n",
       "      <th>parliamentary_period</th>\n",
       "      <th>parliamentary_session</th>\n",
       "      <th>parliamentary_sitting</th>\n",
       "      <th>political_party</th>\n",
       "      <th>speaker_info</th>\n",
       "      <th>speech</th>\n",
       "    </tr>\n",
       "  </thead>\n",
       "  <tbody>\n",
       "    <tr>\n",
       "      <th>0</th>\n",
       "      <td>κρητικος νικολαου παναγιωτης</td>\n",
       "      <td>1989-07-03</td>\n",
       "      <td>period 5</td>\n",
       "      <td>session 1</td>\n",
       "      <td>sitting 1</td>\n",
       "      <td>πανελληνιο σοσιαλιστικο κινημα</td>\n",
       "      <td>προεδρευων</td>\n",
       "      <td>Παρακαλείται ο Γραμματέας κ. Βουλγαράκης να σ...</td>\n",
       "    </tr>\n",
       "    <tr>\n",
       "      <th>1</th>\n",
       "      <td>κρητικος νικολαου παναγιωτης</td>\n",
       "      <td>1989-07-03</td>\n",
       "      <td>period 5</td>\n",
       "      <td>session 1</td>\n",
       "      <td>sitting 1</td>\n",
       "      <td>πανελληνιο σοσιαλιστικο κινημα</td>\n",
       "      <td>προεδρευων</td>\n",
       "      <td>Παρακαλείται ο κύριος Γραμματέας να συνοδεύσε...</td>\n",
       "    </tr>\n",
       "    <tr>\n",
       "      <th>2</th>\n",
       "      <td>κρητικος νικολαου παναγιωτης</td>\n",
       "      <td>1989-07-03</td>\n",
       "      <td>period 5</td>\n",
       "      <td>session 1</td>\n",
       "      <td>sitting 1</td>\n",
       "      <td>πανελληνιο σοσιαλιστικο κινημα</td>\n",
       "      <td>προεδρευων</td>\n",
       "      <td>Κύριοι συνάδελφοι, παρακαλώ τη Βουλή να εξουσ...</td>\n",
       "    </tr>\n",
       "    <tr>\n",
       "      <th>4</th>\n",
       "      <td>κρητικος νικολαου παναγιωτης</td>\n",
       "      <td>1989-07-03</td>\n",
       "      <td>period 5</td>\n",
       "      <td>session 1</td>\n",
       "      <td>sitting 1</td>\n",
       "      <td>πανελληνιο σοσιαλιστικο κινημα</td>\n",
       "      <td>προεδρευων</td>\n",
       "      <td>Η Βουλή παρέσχε τη ζητηθείσα εξουσιοδότηση. Μ...</td>\n",
       "    </tr>\n",
       "    <tr>\n",
       "      <th>5</th>\n",
       "      <td>κρητικος νικολαου παναγιωτης</td>\n",
       "      <td>1989-07-04</td>\n",
       "      <td>period 5</td>\n",
       "      <td>session 1</td>\n",
       "      <td>sitting 2</td>\n",
       "      <td>πανελληνιο σοσιαλιστικο κινημα</td>\n",
       "      <td>προεδρευων</td>\n",
       "      <td>Υπάρχει κανείς εκ των κυρίων συναδέλφων, ο οπ...</td>\n",
       "    </tr>\n",
       "  </tbody>\n",
       "</table>\n",
       "</div>"
      ],
      "text/plain": [
       "                    member_name sitting_date parliamentary_period  \\\n",
       "0  κρητικος νικολαου παναγιωτης   1989-07-03             period 5   \n",
       "1  κρητικος νικολαου παναγιωτης   1989-07-03             period 5   \n",
       "2  κρητικος νικολαου παναγιωτης   1989-07-03             period 5   \n",
       "4  κρητικος νικολαου παναγιωτης   1989-07-03             period 5   \n",
       "5  κρητικος νικολαου παναγιωτης   1989-07-04             period 5   \n",
       "\n",
       "  parliamentary_session parliamentary_sitting                 political_party  \\\n",
       "0             session 1             sitting 1  πανελληνιο σοσιαλιστικο κινημα   \n",
       "1             session 1             sitting 1  πανελληνιο σοσιαλιστικο κινημα   \n",
       "2             session 1             sitting 1  πανελληνιο σοσιαλιστικο κινημα   \n",
       "4             session 1             sitting 1  πανελληνιο σοσιαλιστικο κινημα   \n",
       "5             session 1             sitting 2  πανελληνιο σοσιαλιστικο κινημα   \n",
       "\n",
       "  speaker_info                                             speech  \n",
       "0   προεδρευων   Παρακαλείται ο Γραμματέας κ. Βουλγαράκης να σ...  \n",
       "1   προεδρευων   Παρακαλείται ο κύριος Γραμματέας να συνοδεύσε...  \n",
       "2   προεδρευων   Κύριοι συνάδελφοι, παρακαλώ τη Βουλή να εξουσ...  \n",
       "4   προεδρευων   Η Βουλή παρέσχε τη ζητηθείσα εξουσιοδότηση. Μ...  \n",
       "5   προεδρευων   Υπάρχει κανείς εκ των κυρίων συναδέλφων, ο οπ...  "
      ]
     },
     "execution_count": 11,
     "metadata": {},
     "output_type": "execute_result"
    }
   ],
   "source": [
    "print (proceedings.shape)\n",
    "proceedings.head()"
   ]
  },
  {
   "cell_type": "markdown",
   "metadata": {},
   "source": [
    "Now that I have done some cleaning of the data, I see that the dataset is much smaller than the original one so I will not need to use a subset and I continue by exploring the other columns"
   ]
  },
  {
   "cell_type": "code",
   "execution_count": 12,
   "metadata": {},
   "outputs": [
    {
     "data": {
      "text/plain": [
       "period 17 presided parliamentary republic    169988\n",
       "period 7                                     158819\n",
       "period 11 presided parliamentary republic    134954\n",
       "period 9 presided parliamentary republic     134181\n",
       "period 10 presided parliamentary republic    128251\n",
       "period 15 presided parliamentary republic    118857\n",
       "period 13 presided parliamentary republic    115414\n",
       "period 12 presided parliamentary republic     82317\n",
       "period 8                                      37663\n",
       "period 16 presided parliamentary republic     19872\n",
       "period 5                                       9036\n",
       "period 6                                       6389\n",
       "period 14 presided parliamentary republic        26\n",
       "Name: parliamentary_period, dtype: int64"
      ]
     },
     "execution_count": 12,
     "metadata": {},
     "output_type": "execute_result"
    }
   ],
   "source": [
    "proceedings['parliamentary_period'].value_counts()"
   ]
  },
  {
   "cell_type": "code",
   "execution_count": 13,
   "metadata": {},
   "outputs": [
    {
     "data": {
      "text/plain": [
       "νεα δημοκρατια                                                                     385634\n",
       "πανελληνιο σοσιαλιστικο κινημα                                                     377680\n",
       "συνασπισμος ριζοσπαστικης αριστερας                                                126572\n",
       "κομμουνιστικο κομμα ελλαδας                                                         78631\n",
       "συνασπισμος της αριστερας των κινηματων και της οικολογιας                          35891\n",
       "λαικος ορθοδοξος συναγερμος                                                         23686\n",
       "δημοκρατικη συμπαραταξη (πανελληνιο σοσιαλιστικο κινημα - δημοκρατικη αριστερα)     22991\n",
       "λαικος συνδεσος - χρυση αυγη                                                        14172\n",
       "ανεξαρτητοι ελληνες - πανος καμμενος                                                13785\n",
       "ενωση κεντρωων                                                                       9888\n",
       "το ποταμι                                                                            7672\n",
       "δημοκρατικο κοινωνικο κινημα                                                         6056\n",
       "ανεξαρτητοι ελληνες εθνικη πατριωτικη δημοκρατικη συμμαχια                           5521\n",
       "δημοκρατικη αριστερα                                                                 4204\n",
       "πολιτικη ανοιξη                                                                      3384\n",
       "Name: political_party, dtype: int64"
      ]
     },
     "execution_count": 13,
     "metadata": {},
     "output_type": "execute_result"
    }
   ],
   "source": [
    "proceedings['political_party'].value_counts()"
   ]
  },
  {
   "cell_type": "code",
   "execution_count": 14,
   "metadata": {},
   "outputs": [
    {
     "data": {
      "text/plain": [
       "προεδρευων                                                                                                                                                                                                                                                                                                                                                                                                                                                                                                                                                                                                                                                                                                                                                                                                                                                                                                                                                                                                                                                                                                                                                                                                                                                                                                                                                                                                                                                                                                                                                                                                                                                                                                                                                                                                                                                                                                                                                                                                                                                                                                                                                                                                                                                                                                                                                                                                                                                                                                                                                                                                                                                                                                                                                                                                   348861\n",
       "προεδρος                                                                                                                                                                                                                                                                                                                                                                                                                                                                                                                                                                                                                                                                                                                                                                                                                                                                                                                                                                                                                                                                                                                                                                                                                                                                                                                                                                                                                                                                                                                                                                                                                                                                                                                                                                                                                                                                                                                                                                                                                                                                                                                                                                                                                                                                                                                                                                                                                                                                                                                                                                                                                                                                                                                                                                                                      58035\n",
       "υφυπουργος οικονομικων                                                                                                                                                                                                                                                                                                                                                                                                                                                                                                                                                                                                                                                                                                                                                                                                                                                                                                                                                                                                                                                                                                                                                                                                                                                                                                                                                                                                                                                                                                                                                                                                                                                                                                                                                                                                                                                                                                                                                                                                                                                                                                                                                                                                                                                                                                                                                                                                                                                                                                                                                                                                                                                                                                                                                                                         7201\n",
       "υπουργος δικαιοσυνης                                                                                                                                                                                                                                                                                                                                                                                                                                                                                                                                                                                                                                                                                                                                                                                                                                                                                                                                                                                                                                                                                                                                                                                                                                                                                                                                                                                                                                                                                                                                                                                                                                                                                                                                                                                                                                                                                                                                                                                                                                                                                                                                                                                                                                                                                                                                                                                                                                                                                                                                                                                                                                                                                                                                                                                           5882\n",
       "υφυπουργος εθνικης παιδειας και θρησκευματων                                                                                                                                                                                                                                                                                                                                                                                                                                                                                                                                                                                                                                                                                                                                                                                                                                                                                                                                                                                                                                                                                                                                                                                                                                                                                                                                                                                                                                                                                                                                                                                                                                                                                                                                                                                                                                                                                                                                                                                                                                                                                                                                                                                                                                                                                                                                                                                                                                                                                                                                                                                                                                                                                                                                                                   4367\n",
       "                                                                                                                                                                                                                                                                                                                                                                                                                                                                                                                                                                                                                                                                                                                                                                                                                                                                                                                                                                                                                                                                                                                                                                                                                                                                                                                                                                                                                                                                                                                                                                                                                                                                                                                                                                                                                                                                                                                                                                                                                                                                                                                                                                                                                                                                                                                                                                                                                                                                                                                                                                                                                                                                                                                                                                                                              ...  \n",
       "υφυπουργος εργασιας και κοινωνικων ασφαλισεων κυριε συναδελφε, οπως ειναι γνωστο-και νομιζω οπως υποστηριζετε και ως κομμα-ο,τι αφορα την κυρια ασφαλιση διατεινεστε-και σε αυτην την αιθουσα συμφωνουν ολα τα κομματα-οτι θα πρεπει να ειναι κατω απο το καθεστως του δημοσιου δικαιου. και αλιμονο αν δεν θα ηταν ετσι.ουσιαστικα με την ερωτηση σας προτεινετε στην κυβερνηση να υπαρχει ενα θεσμικο καθεστως που να δινει τη δυνατοτητα στο ι.κ.α. δηλαδη στο δημοσιο, κατα το δοκουν και κατα την κριση του να μπορει να υιοθετει ασφαλιστικα καθεστωτα, ασφαλιστικες προυποθεσεις η ρητρες που θα συνομολογουνται μεταξυ εργαζομενων και εργοδοτων και ενδεχομενως και ατυπα. γιατι εν προκειμενω μαλλον θα μιλαμε για μια ατυπη συμφωνια. θα σας πω επισης δυο λογια για το καθεστως που ισχυει στη χωρα μας σε σχεση με την ασφαλιση της μερικης απασχολησης. κυριε συναδελφε, πρεπει να γνωριζετε οτι το καθεστως που υπαρχει στη χωρα μας σε σχεση με την ασφαλιση της μερικης απασχολησης ειναι το θετικοτερο που υπαρχει σε ολες τις χωρες της ευρωπαικης ενωσης. και επειδη ενδεχομενως να μην το γνωριζετε, σας γνωριζω οτι αν ενας μερικως απασχολουμενος με τεσσερις ωρες εργασιας δουλεψει για 4.500 ημερες και συμπληρωσει το οριο για την παροχη κατωτατης συνταξης, θα παρει ιδια κατωτατη συνταξη με αυτον που δουλευει οκτω ωρες εργασιας την ημερα.απορω, λοιπον, το πως ακριβως δεν το προσεξατε. ισως εγκλωβιστηκατε σε μια λογικη που μπορει να ασκηθηκε απο καποια ομαδα εργαζομενων. δεν ειναι δυνατον το κρατος να υιοθετησει μια τετοια προταση. θα ηταν ολεθρια πολιτικη επιλογη να υιοθετησει να μια τετοια θεσμικη αλλαγη, γιατι ουσιαστικα θα αποδιαρθρωνε τον κυριο φορεα της κοινωνικης ασφαλισης που ειναι πυλωνας της κυριας συνταξης.προεδρευων κωνσταντινος γειτονας                                                                                                                                                                                                                                                                                                                                                                                                                                                                                                                                                                                                                                                                                                                                                                                                                                                                                                                                                                                                      1\n",
       "ευβοιας                                                                                                                                                                                                                                                                                                                                                                                                                                                                                                                                                                                                                                                                                                                                                                                                                                                                                                                                                                                                                                                                                                                                                                                                                                                                                                                                                                                                                                                                                                                                                                                                                                                                                                                                                                                                                                                                                                                                                                                                                                                                                                                                                                                                                                                                                                                                                                                                                                                                                                                                                                                                                                                                                                                                                                                                           1\n",
       "αναπληρωτρια υπουργος εργασιας και κοινωνικης αλληγεγγυης                                                                                                                                                                                                                                                                                                                                                                                                                                                                                                                                                                                                                                                                                                                                                                                                                                                                                                                                                                                                                                                                                                                                                                                                                                                                                                                                                                                                                                                                                                                                                                                                                                                                                                                                                                                                                                                                                                                                                                                                                                                                                                                                                                                                                                                                                                                                                                                                                                                                                                                                                                                                                                                                                                                                                         1\n",
       "υφυπουργος εργασιας και κοινωνικων ασφαλισεων κυριε προεδρε, αναγνωριζω στον κ. παυλοπουλο μια ικανοτητα, να επιχειρει πανω στα ελασσονα θεματα να διαμορφωνει ενα αθροισμα επιχειρηματων που σε καμια περιπτωση δεν αντιστοιχει σε συγκεκριμενη περιπτωση. και για να τεκμηριωσω τον ισχυρισμο μου, κυριε παυλοπουλε, θεωρω οτι και η χθεσινη σας επιχειρηματολογια και ιδιαιτερα η σημερινη μαλλον διακατεχεται και διαπνεεται απο μια υπερβολη που σε καμια περιπτωση δεν αντεχει σ εναν στοιχειωδη ορθολογισμο. η τελευταια περιπτωση που ειπατε, αν ειχατε προσεξει λιγο πιο πολυ, ειναι μια διαταξη που ισχυει ουσιαστικα και επαναδιατυπωνεται για να συμπεριληφθει ο οαεε, ενας ασφαλιστικος οργανισμος που οπως ξερετε δεν ελεγχεται απο κανεναν και ορθα, προκειμενου να διευκολυνθει ο συγκεκριμενος ασφαλιστικος οργανισμος για μια σειρα προβληματα που εχει. και δεν μπορω να ισχυριστω-θα το φερω ομως-οτι η παγια διαταξη, οπως ειχε διαμορφωθει, εδινε αυτο το δικαιωμα οχι να προσλαμβανουν, αλλα να αξιοποιουν κατα περιπτωση δικηγορους για περιπτωσεις το ικα, ο ογα, ο οαεδ, κλπ. ειχε ψηφιστει εδω και αρκετα χρονια και πιστευω απο την κυβερνηση της νεας δημοκρατιας. και ορθα βεβαια κατα την αποψη μου-γιατι ειχα την εμπειρια ασκωντας διοικηση-λειτουργησε για τις συστηματικες περιπτωσεις η ιδια η νομικη υπηρεσια, η οποια προτεινει στην εκαστοτε διοικηση και το διοικητικο συμβουλιο αποφασιζει να παρει ενα δικηγορο για να διαχειριστει μια μεγαλη υποθεση. γι αυτο το απλο θεμα μιλουσατε πεντε λεπτα με απιθανα επιχειρηματα, κυριε παυλοπουλε. κι αυτο κανετε για οτιδηποτε. για μια φουσκα μιλουσατε τοση ωρα. για ενα τιποτα μιλουσατε. σε σχεση με τα υπολοιπα ειπατε οτι η κυβερνηση συνολικα για το ασφαλιστικο λειτουργει αποσπασματικα και δεν εχει οραμα, δεν εχει στοχους. ακουστε, κυριε παυλοπουλε. η κυβερνηση δεν λειτουργησε αποσπασματικα για το ασφαλιστικο κι αν θελετε δεν λειτουργει αποσπασματικα εδω και αρκετα χρονια. απο το 1993 μεχρι σημερα οι κυβερνησεις του πασοκ επιχειρουν μ εναν τολμηρο τροπο να οικοδομησουν ασφαλιστικες δομες. ενοποιησαν το τεβε, το ταμειο εμπορων και το τσα. εφτιαξαν, δηλαδη, οικοδομησαν τον πυλωνα των αυτοαπασχολουμενων. εφτιαξαν τον ογα σαν κυριο φορεα ασφαλισης, οικοδομησαν δηλαδη τον κυριο φορεα ασφαλισης των αγροτων. ειπατε οτι εμεις θα επρεπε σ αυτην την ασφαλιστικη μεταρρυθμιση να ενταξουμε κι αυτες τις ρυθμισεις. φαινεται οτι οχι μονο αποχωρησατε απο την αιθουσα, αλλα αποχωρησατε χωρις να διαβασετε, οχι το σχεδιο νομο, αλλα ουτε τον τιτλο του. γιατι η ασφαλιστικη μεταρρυθμιση ειναι ασφαλιστικη μεταρρυθμιση μισθωτων, κυριε παυλοπουλε. προκοπης παυλοπουλος κι εσεις μπορουσατε να το βαλετε μεσα… ροβερτος σπυροπουλος υφυπουργος εργασιας και κοινωνικων ασφαλισεων         1\n",
       "υπουργος εργασιας και σελιδα 2513 κοινωνικων ασφαλισεων                                                                                                                                                                                                                                                                                                                                                                                                                                                                                                                                                                                                                                                                                                                                                                                                                                                                                                                                                                                                                                                                                                                                                                                                                                                                                                                                                                                                                                                                                                                                                                                                                                                                                                                                                                                                                                                                                                                                                                                                                                                                                                                                                                                                                                                                                                                                                                                                                                                                                                                                                                                                                                                                                                                                                           1\n",
       "Name: speaker_info, Length: 1251, dtype: int64"
      ]
     },
     "execution_count": 14,
     "metadata": {},
     "output_type": "execute_result"
    }
   ],
   "source": [
    "proceedings['speaker_info'].value_counts()"
   ]
  },
  {
   "cell_type": "code",
   "execution_count": 15,
   "metadata": {},
   "outputs": [
    {
     "data": {
      "text/html": [
       "<div>\n",
       "<style scoped>\n",
       "    .dataframe tbody tr th:only-of-type {\n",
       "        vertical-align: middle;\n",
       "    }\n",
       "\n",
       "    .dataframe tbody tr th {\n",
       "        vertical-align: top;\n",
       "    }\n",
       "\n",
       "    .dataframe thead th {\n",
       "        text-align: right;\n",
       "    }\n",
       "</style>\n",
       "<table border=\"1\" class=\"dataframe\">\n",
       "  <thead>\n",
       "    <tr style=\"text-align: right;\">\n",
       "      <th></th>\n",
       "      <th>member_name</th>\n",
       "      <th>sitting_date</th>\n",
       "      <th>parliamentary_period</th>\n",
       "      <th>parliamentary_session</th>\n",
       "      <th>parliamentary_sitting</th>\n",
       "      <th>political_party</th>\n",
       "      <th>speaker_info</th>\n",
       "      <th>speech</th>\n",
       "    </tr>\n",
       "  </thead>\n",
       "  <tbody>\n",
       "    <tr>\n",
       "      <th>9</th>\n",
       "      <td>τσαλδαρης κωνσταντινου αθανασιος</td>\n",
       "      <td>1989-07-04</td>\n",
       "      <td>period 5</td>\n",
       "      <td>session 1</td>\n",
       "      <td>sitting 2</td>\n",
       "      <td>νεα δημοκρατια</td>\n",
       "      <td>προεδρος</td>\n",
       "      <td>Κυρίες και κύριοι συνάδελφοι, αναλαμβάνοντας ...</td>\n",
       "    </tr>\n",
       "    <tr>\n",
       "      <th>11</th>\n",
       "      <td>τσαλδαρης κωνσταντινου αθανασιος</td>\n",
       "      <td>1989-07-04</td>\n",
       "      <td>period 5</td>\n",
       "      <td>session 1</td>\n",
       "      <td>sitting 2</td>\n",
       "      <td>νεα δημοκρατια</td>\n",
       "      <td>προεδρος</td>\n",
       "      <td>Η Βουλή παρέσχε τη ζητηθείσα εξουσιοδότηση. Μ...</td>\n",
       "    </tr>\n",
       "    <tr>\n",
       "      <th>13</th>\n",
       "      <td>τσαλδαρης κωνσταντινου αθανασιος</td>\n",
       "      <td>1989-07-05</td>\n",
       "      <td>period 5</td>\n",
       "      <td>session 1</td>\n",
       "      <td>sitting 3</td>\n",
       "      <td>νεα δημοκρατια</td>\n",
       "      <td>προεδρος</td>\n",
       "      <td>Μοιράζονται τώρα, κύριε Τσοβόλα. Παρακαλώ του...</td>\n",
       "    </tr>\n",
       "    <tr>\n",
       "      <th>14</th>\n",
       "      <td>τσαλδαρης κωνσταντινου αθανασιος</td>\n",
       "      <td>1989-07-05</td>\n",
       "      <td>period 5</td>\n",
       "      <td>session 1</td>\n",
       "      <td>sitting 3</td>\n",
       "      <td>νεα δημοκρατια</td>\n",
       "      <td>προεδρος</td>\n",
       "      <td>Υπάρχει κανείς από τους κυρίους συναδέλφους π...</td>\n",
       "    </tr>\n",
       "    <tr>\n",
       "      <th>15</th>\n",
       "      <td>τσαλδαρης κωνσταντινου αθανασιος</td>\n",
       "      <td>1989-07-05</td>\n",
       "      <td>period 5</td>\n",
       "      <td>session 1</td>\n",
       "      <td>sitting 3</td>\n",
       "      <td>νεα δημοκρατια</td>\n",
       "      <td>προεδρος</td>\n",
       "      <td>Κύριοι συνάδελφοι, κατά τη διεξαχθείσα μυστικ...</td>\n",
       "    </tr>\n",
       "    <tr>\n",
       "      <th>...</th>\n",
       "      <td>...</td>\n",
       "      <td>...</td>\n",
       "      <td>...</td>\n",
       "      <td>...</td>\n",
       "      <td>...</td>\n",
       "      <td>...</td>\n",
       "      <td>...</td>\n",
       "      <td>...</td>\n",
       "    </tr>\n",
       "    <tr>\n",
       "      <th>1192968</th>\n",
       "      <td>βουτσης γεωργιου νικολαος</td>\n",
       "      <td>2019-02-13</td>\n",
       "      <td>period 17 presided parliamentary republic</td>\n",
       "      <td>session 4</td>\n",
       "      <td>sitting 75</td>\n",
       "      <td>συνασπισμος ριζοσπαστικης αριστερας</td>\n",
       "      <td>προεδρος</td>\n",
       "      <td>Όλοι θα μιλήσουν και θα τελειώσουμε και πιο ν...</td>\n",
       "    </tr>\n",
       "    <tr>\n",
       "      <th>1192970</th>\n",
       "      <td>βουτσης γεωργιου νικολαος</td>\n",
       "      <td>2019-02-13</td>\n",
       "      <td>period 17 presided parliamentary republic</td>\n",
       "      <td>session 4</td>\n",
       "      <td>sitting 75</td>\n",
       "      <td>συνασπισμος ριζοσπαστικης αριστερας</td>\n",
       "      <td>προεδρος</td>\n",
       "      <td>Θα το υπολογίσουν οι υπηρεσίες σε μισή με μία...</td>\n",
       "    </tr>\n",
       "    <tr>\n",
       "      <th>1193397</th>\n",
       "      <td>βουτσης γεωργιου νικολαος</td>\n",
       "      <td>2019-02-14</td>\n",
       "      <td>period 17 presided parliamentary republic</td>\n",
       "      <td>session 4</td>\n",
       "      <td>sitting 76</td>\n",
       "      <td>συνασπισμος ριζοσπαστικης αριστερας</td>\n",
       "      <td>προεδρος</td>\n",
       "      <td>Κυρίες και κύριοι συνάδελφοι, επανερχόμεθα στ...</td>\n",
       "    </tr>\n",
       "    <tr>\n",
       "      <th>1193398</th>\n",
       "      <td>βουτσης γεωργιου νικολαος</td>\n",
       "      <td>2019-02-14</td>\n",
       "      <td>period 17 presided parliamentary republic</td>\n",
       "      <td>session 4</td>\n",
       "      <td>sitting 76</td>\n",
       "      <td>συνασπισμος ριζοσπαστικης αριστερας</td>\n",
       "      <td>προεδρος</td>\n",
       "      <td>Κυρίες και κύριοι συνάδελφοι, σύμφωνα με τον ...</td>\n",
       "    </tr>\n",
       "    <tr>\n",
       "      <th>1193400</th>\n",
       "      <td>βουτσης γεωργιου νικολαος</td>\n",
       "      <td>2019-02-14</td>\n",
       "      <td>period 17 presided parliamentary republic</td>\n",
       "      <td>session 4</td>\n",
       "      <td>sitting 76</td>\n",
       "      <td>συνασπισμος ριζοσπαστικης αριστερας</td>\n",
       "      <td>προεδρος</td>\n",
       "      <td>Με τη συναίνεση του Σώματος και ώρα 19.05΄ λύ...</td>\n",
       "    </tr>\n",
       "  </tbody>\n",
       "</table>\n",
       "<p>58035 rows × 8 columns</p>\n",
       "</div>"
      ],
      "text/plain": [
       "                              member_name sitting_date  \\\n",
       "9        τσαλδαρης κωνσταντινου αθανασιος   1989-07-04   \n",
       "11       τσαλδαρης κωνσταντινου αθανασιος   1989-07-04   \n",
       "13       τσαλδαρης κωνσταντινου αθανασιος   1989-07-05   \n",
       "14       τσαλδαρης κωνσταντινου αθανασιος   1989-07-05   \n",
       "15       τσαλδαρης κωνσταντινου αθανασιος   1989-07-05   \n",
       "...                                   ...          ...   \n",
       "1192968         βουτσης γεωργιου νικολαος   2019-02-13   \n",
       "1192970         βουτσης γεωργιου νικολαος   2019-02-13   \n",
       "1193397         βουτσης γεωργιου νικολαος   2019-02-14   \n",
       "1193398         βουτσης γεωργιου νικολαος   2019-02-14   \n",
       "1193400         βουτσης γεωργιου νικολαος   2019-02-14   \n",
       "\n",
       "                              parliamentary_period parliamentary_session  \\\n",
       "9                                         period 5             session 1   \n",
       "11                                        period 5             session 1   \n",
       "13                                        period 5             session 1   \n",
       "14                                        period 5             session 1   \n",
       "15                                        period 5             session 1   \n",
       "...                                            ...                   ...   \n",
       "1192968  period 17 presided parliamentary republic             session 4   \n",
       "1192970  period 17 presided parliamentary republic             session 4   \n",
       "1193397  period 17 presided parliamentary republic             session 4   \n",
       "1193398  period 17 presided parliamentary republic             session 4   \n",
       "1193400  period 17 presided parliamentary republic             session 4   \n",
       "\n",
       "        parliamentary_sitting                      political_party  \\\n",
       "9                   sitting 2                       νεα δημοκρατια   \n",
       "11                  sitting 2                       νεα δημοκρατια   \n",
       "13                  sitting 3                       νεα δημοκρατια   \n",
       "14                  sitting 3                       νεα δημοκρατια   \n",
       "15                  sitting 3                       νεα δημοκρατια   \n",
       "...                       ...                                  ...   \n",
       "1192968            sitting 75  συνασπισμος ριζοσπαστικης αριστερας   \n",
       "1192970            sitting 75  συνασπισμος ριζοσπαστικης αριστερας   \n",
       "1193397            sitting 76  συνασπισμος ριζοσπαστικης αριστερας   \n",
       "1193398            sitting 76  συνασπισμος ριζοσπαστικης αριστερας   \n",
       "1193400            sitting 76  συνασπισμος ριζοσπαστικης αριστερας   \n",
       "\n",
       "        speaker_info                                             speech  \n",
       "9           προεδρος   Κυρίες και κύριοι συνάδελφοι, αναλαμβάνοντας ...  \n",
       "11          προεδρος   Η Βουλή παρέσχε τη ζητηθείσα εξουσιοδότηση. Μ...  \n",
       "13          προεδρος   Μοιράζονται τώρα, κύριε Τσοβόλα. Παρακαλώ του...  \n",
       "14          προεδρος   Υπάρχει κανείς από τους κυρίους συναδέλφους π...  \n",
       "15          προεδρος   Κύριοι συνάδελφοι, κατά τη διεξαχθείσα μυστικ...  \n",
       "...              ...                                                ...  \n",
       "1192968     προεδρος   Όλοι θα μιλήσουν και θα τελειώσουμε και πιο ν...  \n",
       "1192970     προεδρος   Θα το υπολογίσουν οι υπηρεσίες σε μισή με μία...  \n",
       "1193397     προεδρος   Κυρίες και κύριοι συνάδελφοι, επανερχόμεθα στ...  \n",
       "1193398     προεδρος   Κυρίες και κύριοι συνάδελφοι, σύμφωνα με τον ...  \n",
       "1193400     προεδρος   Με τη συναίνεση του Σώματος και ώρα 19.05΄ λύ...  \n",
       "\n",
       "[58035 rows x 8 columns]"
      ]
     },
     "execution_count": 15,
     "metadata": {},
     "output_type": "execute_result"
    }
   ],
   "source": [
    "proceedings.loc[proceedings['speaker_info'] == 'προεδρος']"
   ]
  },
  {
   "cell_type": "markdown",
   "metadata": {},
   "source": [
    "**After doing some research on the internet and looking through the 'προεδρευων' and 'προεδρος' speeches, I see that they do not talk for a political party in particular and they just introduce the talking subjects or the speakers in each instance and I cannot use them to identify data that I am interested in.**"
   ]
  },
  {
   "cell_type": "code",
   "execution_count": 16,
   "metadata": {},
   "outputs": [
    {
     "name": "stdout",
     "output_type": "stream",
     "text": [
      "(708871, 8)\n"
     ]
    }
   ],
   "source": [
    "proceedings = proceedings[~(proceedings['speaker_info'].isin(['προεδρευων', 'προεδρος']))]\n",
    "\n",
    "proceedings['speaker_info'].value_counts()\n",
    "print (proceedings.shape)"
   ]
  },
  {
   "cell_type": "code",
   "execution_count": 17,
   "metadata": {},
   "outputs": [
    {
     "data": {
      "text/plain": [
       "array(['πανελληνιο σοσιαλιστικο κινημα', 'νεα δημοκρατια',\n",
       "       'κομμουνιστικο κομμα ελλαδας',\n",
       "       'συνασπισμος της αριστερας των κινηματων και της οικολογιας',\n",
       "       'λαικος ορθοδοξος συναγερμος', 'πολιτικη ανοιξη',\n",
       "       'δημοκρατικο κοινωνικο κινημα',\n",
       "       'συνασπισμος ριζοσπαστικης αριστερας', 'δημοκρατικη αριστερα',\n",
       "       'ανεξαρτητοι ελληνες - πανος καμμενος',\n",
       "       'λαικος συνδεσος - χρυση αυγη', 'το ποταμι',\n",
       "       'ανεξαρτητοι ελληνες εθνικη πατριωτικη δημοκρατικη συμμαχια',\n",
       "       'δημοκρατικη συμπαραταξη (πανελληνιο σοσιαλιστικο κινημα - δημοκρατικη αριστερα)',\n",
       "       'ενωση κεντρωων'], dtype=object)"
      ]
     },
     "execution_count": 17,
     "metadata": {},
     "output_type": "execute_result"
    }
   ],
   "source": [
    "proceedings.political_party.unique()"
   ]
  },
  {
   "cell_type": "code",
   "execution_count": 18,
   "metadata": {},
   "outputs": [
    {
     "name": "stdout",
     "output_type": "stream",
     "text": [
      "(708871, 9)\n"
     ]
    },
    {
     "data": {
      "text/html": [
       "<div>\n",
       "<style scoped>\n",
       "    .dataframe tbody tr th:only-of-type {\n",
       "        vertical-align: middle;\n",
       "    }\n",
       "\n",
       "    .dataframe tbody tr th {\n",
       "        vertical-align: top;\n",
       "    }\n",
       "\n",
       "    .dataframe thead th {\n",
       "        text-align: right;\n",
       "    }\n",
       "</style>\n",
       "<table border=\"1\" class=\"dataframe\">\n",
       "  <thead>\n",
       "    <tr style=\"text-align: right;\">\n",
       "      <th></th>\n",
       "      <th>index</th>\n",
       "      <th>member_name</th>\n",
       "      <th>sitting_date</th>\n",
       "      <th>parliamentary_period</th>\n",
       "      <th>parliamentary_session</th>\n",
       "      <th>parliamentary_sitting</th>\n",
       "      <th>political_party</th>\n",
       "      <th>speaker_info</th>\n",
       "      <th>speech</th>\n",
       "    </tr>\n",
       "  </thead>\n",
       "  <tbody>\n",
       "    <tr>\n",
       "      <th>0</th>\n",
       "      <td>12</td>\n",
       "      <td>τσοβολας κωνσταντινου δημητριος</td>\n",
       "      <td>1989-07-05</td>\n",
       "      <td>period 5</td>\n",
       "      <td>session 1</td>\n",
       "      <td>sitting 3</td>\n",
       "      <td>πανελληνιο σοσιαλιστικο κινημα</td>\n",
       "      <td>NaN</td>\n",
       "      <td>Κύριε Πρόεδρε, δεν έχουν μοιραστεί όλα τα ψηφ...</td>\n",
       "    </tr>\n",
       "    <tr>\n",
       "      <th>1</th>\n",
       "      <td>16</td>\n",
       "      <td>τζαννετακης πετρου τζαννης</td>\n",
       "      <td>1989-07-05</td>\n",
       "      <td>period 5</td>\n",
       "      <td>session 1</td>\n",
       "      <td>sitting 3</td>\n",
       "      <td>νεα δημοκρατια</td>\n",
       "      <td>προεδρος της κυβερνησης και υπουργος των εξωτε...</td>\n",
       "      <td>~\"ΕΦΗΜΕΡΙΣ ΤΗΣ ΚΥΒΕΡΝΗΣΕΩΣ ΤΗΣ ΕΛΛΗΝΙΚΗΣ ΔΗΜΟ...</td>\n",
       "    </tr>\n",
       "    <tr>\n",
       "      <th>2</th>\n",
       "      <td>18</td>\n",
       "      <td>NaN</td>\n",
       "      <td>1989-07-05</td>\n",
       "      <td>period 5</td>\n",
       "      <td>session 1</td>\n",
       "      <td>sitting 3</td>\n",
       "      <td>πανελληνιο σοσιαλιστικο κινημα</td>\n",
       "      <td>βουλευτης/ες</td>\n",
       "      <td>Να μας τη διαβάσετε.</td>\n",
       "    </tr>\n",
       "    <tr>\n",
       "      <th>3</th>\n",
       "      <td>21</td>\n",
       "      <td>αλευρας νικολαου ιωαννης</td>\n",
       "      <td>1989-07-05</td>\n",
       "      <td>period 5</td>\n",
       "      <td>session 1</td>\n",
       "      <td>sitting 3</td>\n",
       "      <td>πανελληνιο σοσιαλιστικο κινημα</td>\n",
       "      <td>NaN</td>\n",
       "      <td>Κύριε Πρόεδρε, κατ' αρχή θα πω μερικές κουβέν...</td>\n",
       "    </tr>\n",
       "    <tr>\n",
       "      <th>4</th>\n",
       "      <td>23</td>\n",
       "      <td>αλευρας νικολαου ιωαννης</td>\n",
       "      <td>1989-07-05</td>\n",
       "      <td>period 5</td>\n",
       "      <td>session 1</td>\n",
       "      <td>sitting 3</td>\n",
       "      <td>πανελληνιο σοσιαλιστικο κινημα</td>\n",
       "      <td>NaN</td>\n",
       "      <td>Λέει ο Κανονισμός ότι σε εξαιρετικές περιπτώσ...</td>\n",
       "    </tr>\n",
       "    <tr>\n",
       "      <th>5</th>\n",
       "      <td>25</td>\n",
       "      <td>αλευρας νικολαου ιωαννης</td>\n",
       "      <td>1989-07-05</td>\n",
       "      <td>period 5</td>\n",
       "      <td>session 1</td>\n",
       "      <td>sitting 3</td>\n",
       "      <td>πανελληνιο σοσιαλιστικο κινημα</td>\n",
       "      <td>NaN</td>\n",
       "      <td>Όσον αφορά το πρώτο θέμα, κατ` αρχήν θέλω να π...</td>\n",
       "    </tr>\n",
       "    <tr>\n",
       "      <th>6</th>\n",
       "      <td>27</td>\n",
       "      <td>αλευρας νικολαου ιωαννης</td>\n",
       "      <td>1989-07-05</td>\n",
       "      <td>period 5</td>\n",
       "      <td>session 1</td>\n",
       "      <td>sitting 3</td>\n",
       "      <td>πανελληνιο σοσιαλιστικο κινημα</td>\n",
       "      <td>NaN</td>\n",
       "      <td>Και εγώ δεν τις διάβασα.</td>\n",
       "    </tr>\n",
       "    <tr>\n",
       "      <th>7</th>\n",
       "      <td>29</td>\n",
       "      <td>αλευρας νικολαου ιωαννης</td>\n",
       "      <td>1989-07-05</td>\n",
       "      <td>period 5</td>\n",
       "      <td>session 1</td>\n",
       "      <td>sitting 3</td>\n",
       "      <td>πανελληνιο σοσιαλιστικο κινημα</td>\n",
       "      <td>NaN</td>\n",
       "      <td>Ούτε εγώ τις έχω διαβάσει. Ποια είναι η άποψή ...</td>\n",
       "    </tr>\n",
       "    <tr>\n",
       "      <th>8</th>\n",
       "      <td>31</td>\n",
       "      <td>αλευρας νικολαου ιωαννης</td>\n",
       "      <td>1989-07-05</td>\n",
       "      <td>period 5</td>\n",
       "      <td>session 1</td>\n",
       "      <td>sitting 3</td>\n",
       "      <td>πανελληνιο σοσιαλιστικο κινημα</td>\n",
       "      <td>NaN</td>\n",
       "      <td>Με συγχωρείτε, αλλά για να το ξέρουν όλοι οι ...</td>\n",
       "    </tr>\n",
       "    <tr>\n",
       "      <th>9</th>\n",
       "      <td>33</td>\n",
       "      <td>αλευρας νικολαου ιωαννης</td>\n",
       "      <td>1989-07-05</td>\n",
       "      <td>period 5</td>\n",
       "      <td>session 1</td>\n",
       "      <td>sitting 3</td>\n",
       "      <td>πανελληνιο σοσιαλιστικο κινημα</td>\n",
       "      <td>NaN</td>\n",
       "      <td>Έπρεπε, όμως, εφόσον τις καταθέτετε...</td>\n",
       "    </tr>\n",
       "  </tbody>\n",
       "</table>\n",
       "</div>"
      ],
      "text/plain": [
       "   index                      member_name sitting_date parliamentary_period  \\\n",
       "0     12  τσοβολας κωνσταντινου δημητριος   1989-07-05             period 5   \n",
       "1     16       τζαννετακης πετρου τζαννης   1989-07-05             period 5   \n",
       "2     18                              NaN   1989-07-05             period 5   \n",
       "3     21         αλευρας νικολαου ιωαννης   1989-07-05             period 5   \n",
       "4     23         αλευρας νικολαου ιωαννης   1989-07-05             period 5   \n",
       "5     25         αλευρας νικολαου ιωαννης   1989-07-05             period 5   \n",
       "6     27         αλευρας νικολαου ιωαννης   1989-07-05             period 5   \n",
       "7     29         αλευρας νικολαου ιωαννης   1989-07-05             period 5   \n",
       "8     31         αλευρας νικολαου ιωαννης   1989-07-05             period 5   \n",
       "9     33         αλευρας νικολαου ιωαννης   1989-07-05             period 5   \n",
       "\n",
       "  parliamentary_session parliamentary_sitting                 political_party  \\\n",
       "0             session 1             sitting 3  πανελληνιο σοσιαλιστικο κινημα   \n",
       "1             session 1             sitting 3                  νεα δημοκρατια   \n",
       "2             session 1             sitting 3  πανελληνιο σοσιαλιστικο κινημα   \n",
       "3             session 1             sitting 3  πανελληνιο σοσιαλιστικο κινημα   \n",
       "4             session 1             sitting 3  πανελληνιο σοσιαλιστικο κινημα   \n",
       "5             session 1             sitting 3  πανελληνιο σοσιαλιστικο κινημα   \n",
       "6             session 1             sitting 3  πανελληνιο σοσιαλιστικο κινημα   \n",
       "7             session 1             sitting 3  πανελληνιο σοσιαλιστικο κινημα   \n",
       "8             session 1             sitting 3  πανελληνιο σοσιαλιστικο κινημα   \n",
       "9             session 1             sitting 3  πανελληνιο σοσιαλιστικο κινημα   \n",
       "\n",
       "                                        speaker_info  \\\n",
       "0                                                NaN   \n",
       "1  προεδρος της κυβερνησης και υπουργος των εξωτε...   \n",
       "2                                       βουλευτης/ες   \n",
       "3                                                NaN   \n",
       "4                                                NaN   \n",
       "5                                                NaN   \n",
       "6                                                NaN   \n",
       "7                                                NaN   \n",
       "8                                                NaN   \n",
       "9                                                NaN   \n",
       "\n",
       "                                              speech  \n",
       "0   Κύριε Πρόεδρε, δεν έχουν μοιραστεί όλα τα ψηφ...  \n",
       "1   ~\"ΕΦΗΜΕΡΙΣ ΤΗΣ ΚΥΒΕΡΝΗΣΕΩΣ ΤΗΣ ΕΛΛΗΝΙΚΗΣ ΔΗΜΟ...  \n",
       "2                               Να μας τη διαβάσετε.  \n",
       "3   Κύριε Πρόεδρε, κατ' αρχή θα πω μερικές κουβέν...  \n",
       "4   Λέει ο Κανονισμός ότι σε εξαιρετικές περιπτώσ...  \n",
       "5  Όσον αφορά το πρώτο θέμα, κατ` αρχήν θέλω να π...  \n",
       "6                           Και εγώ δεν τις διάβασα.  \n",
       "7  Ούτε εγώ τις έχω διαβάσει. Ποια είναι η άποψή ...  \n",
       "8   Με συγχωρείτε, αλλά για να το ξέρουν όλοι οι ...  \n",
       "9             Έπρεπε, όμως, εφόσον τις καταθέτετε...  "
      ]
     },
     "execution_count": 18,
     "metadata": {},
     "output_type": "execute_result"
    }
   ],
   "source": [
    "proceedings.reset_index(inplace=True)\n",
    "\n",
    "print (proceedings.shape)\n",
    "proceedings.head(10)"
   ]
  },
  {
   "cell_type": "markdown",
   "metadata": {},
   "source": [
    "# Data Exploration"
   ]
  },
  {
   "cell_type": "markdown",
   "metadata": {},
   "source": [
    "**The first thing I will try to explain and visualize is the speeches made per party. For that I will create a subset of the dataframe that will contain the differenet political parties and the speeches they have made in total.**"
   ]
  },
  {
   "cell_type": "code",
   "execution_count": 19,
   "metadata": {},
   "outputs": [
    {
     "name": "stdout",
     "output_type": "stream",
     "text": [
      "(708871, 2)\n"
     ]
    },
    {
     "data": {
      "text/html": [
       "<div>\n",
       "<style scoped>\n",
       "    .dataframe tbody tr th:only-of-type {\n",
       "        vertical-align: middle;\n",
       "    }\n",
       "\n",
       "    .dataframe tbody tr th {\n",
       "        vertical-align: top;\n",
       "    }\n",
       "\n",
       "    .dataframe thead th {\n",
       "        text-align: right;\n",
       "    }\n",
       "</style>\n",
       "<table border=\"1\" class=\"dataframe\">\n",
       "  <thead>\n",
       "    <tr style=\"text-align: right;\">\n",
       "      <th></th>\n",
       "      <th>political_party</th>\n",
       "      <th>speech</th>\n",
       "    </tr>\n",
       "  </thead>\n",
       "  <tbody>\n",
       "    <tr>\n",
       "      <th>0</th>\n",
       "      <td>πανελληνιο σοσιαλιστικο κινημα</td>\n",
       "      <td>Κύριε Πρόεδρε, δεν έχουν μοιραστεί όλα τα ψηφ...</td>\n",
       "    </tr>\n",
       "    <tr>\n",
       "      <th>1</th>\n",
       "      <td>νεα δημοκρατια</td>\n",
       "      <td>~\"ΕΦΗΜΕΡΙΣ ΤΗΣ ΚΥΒΕΡΝΗΣΕΩΣ ΤΗΣ ΕΛΛΗΝΙΚΗΣ ΔΗΜΟ...</td>\n",
       "    </tr>\n",
       "    <tr>\n",
       "      <th>2</th>\n",
       "      <td>πανελληνιο σοσιαλιστικο κινημα</td>\n",
       "      <td>Να μας τη διαβάσετε.</td>\n",
       "    </tr>\n",
       "    <tr>\n",
       "      <th>3</th>\n",
       "      <td>πανελληνιο σοσιαλιστικο κινημα</td>\n",
       "      <td>Κύριε Πρόεδρε, κατ' αρχή θα πω μερικές κουβέν...</td>\n",
       "    </tr>\n",
       "    <tr>\n",
       "      <th>4</th>\n",
       "      <td>πανελληνιο σοσιαλιστικο κινημα</td>\n",
       "      <td>Λέει ο Κανονισμός ότι σε εξαιρετικές περιπτώσ...</td>\n",
       "    </tr>\n",
       "  </tbody>\n",
       "</table>\n",
       "</div>"
      ],
      "text/plain": [
       "                  political_party  \\\n",
       "0  πανελληνιο σοσιαλιστικο κινημα   \n",
       "1                  νεα δημοκρατια   \n",
       "2  πανελληνιο σοσιαλιστικο κινημα   \n",
       "3  πανελληνιο σοσιαλιστικο κινημα   \n",
       "4  πανελληνιο σοσιαλιστικο κινημα   \n",
       "\n",
       "                                              speech  \n",
       "0   Κύριε Πρόεδρε, δεν έχουν μοιραστεί όλα τα ψηφ...  \n",
       "1   ~\"ΕΦΗΜΕΡΙΣ ΤΗΣ ΚΥΒΕΡΝΗΣΕΩΣ ΤΗΣ ΕΛΛΗΝΙΚΗΣ ΔΗΜΟ...  \n",
       "2                               Να μας τη διαβάσετε.  \n",
       "3   Κύριε Πρόεδρε, κατ' αρχή θα πω μερικές κουβέν...  \n",
       "4   Λέει ο Κανονισμός ότι σε εξαιρετικές περιπτώσ...  "
      ]
     },
     "execution_count": 19,
     "metadata": {},
     "output_type": "execute_result"
    }
   ],
   "source": [
    "party_speeches = proceedings[['political_party','speech']]\n",
    "\n",
    "print (party_speeches.shape)\n",
    "party_speeches.head()"
   ]
  },
  {
   "cell_type": "code",
   "execution_count": 20,
   "metadata": {},
   "outputs": [
    {
     "name": "stdout",
     "output_type": "stream",
     "text": [
      "(15, 2)\n"
     ]
    },
    {
     "data": {
      "text/html": [
       "<div>\n",
       "<style scoped>\n",
       "    .dataframe tbody tr th:only-of-type {\n",
       "        vertical-align: middle;\n",
       "    }\n",
       "\n",
       "    .dataframe tbody tr th {\n",
       "        vertical-align: top;\n",
       "    }\n",
       "\n",
       "    .dataframe thead th {\n",
       "        text-align: right;\n",
       "    }\n",
       "</style>\n",
       "<table border=\"1\" class=\"dataframe\">\n",
       "  <thead>\n",
       "    <tr style=\"text-align: right;\">\n",
       "      <th></th>\n",
       "      <th>political_party</th>\n",
       "      <th>speech</th>\n",
       "    </tr>\n",
       "  </thead>\n",
       "  <tbody>\n",
       "    <tr>\n",
       "      <th>0</th>\n",
       "      <td>ανεξαρτητοι ελληνες - πανος καμμενος</td>\n",
       "      <td>5374</td>\n",
       "    </tr>\n",
       "    <tr>\n",
       "      <th>1</th>\n",
       "      <td>ανεξαρτητοι ελληνες εθνικη πατριωτικη δημοκρατ...</td>\n",
       "      <td>4243</td>\n",
       "    </tr>\n",
       "    <tr>\n",
       "      <th>2</th>\n",
       "      <td>δημοκρατικη αριστερα</td>\n",
       "      <td>4204</td>\n",
       "    </tr>\n",
       "    <tr>\n",
       "      <th>3</th>\n",
       "      <td>δημοκρατικη συμπαραταξη (πανελληνιο σοσιαλιστι...</td>\n",
       "      <td>15402</td>\n",
       "    </tr>\n",
       "    <tr>\n",
       "      <th>4</th>\n",
       "      <td>δημοκρατικο κοινωνικο κινημα</td>\n",
       "      <td>6056</td>\n",
       "    </tr>\n",
       "  </tbody>\n",
       "</table>\n",
       "</div>"
      ],
      "text/plain": [
       "                                     political_party  speech\n",
       "0               ανεξαρτητοι ελληνες - πανος καμμενος    5374\n",
       "1  ανεξαρτητοι ελληνες εθνικη πατριωτικη δημοκρατ...    4243\n",
       "2                               δημοκρατικη αριστερα    4204\n",
       "3  δημοκρατικη συμπαραταξη (πανελληνιο σοσιαλιστι...   15402\n",
       "4                       δημοκρατικο κοινωνικο κινημα    6056"
      ]
     },
     "execution_count": 20,
     "metadata": {},
     "output_type": "execute_result"
    }
   ],
   "source": [
    "party_speeches = party_speeches.groupby('political_party',as_index=False).count() \n",
    "\n",
    "\n",
    "print (party_speeches.shape)\n",
    "party_speeches.head()"
   ]
  },
  {
   "cell_type": "code",
   "execution_count": 21,
   "metadata": {},
   "outputs": [
    {
     "name": "stdout",
     "output_type": "stream",
     "text": [
      "<class 'pandas.core.frame.DataFrame'>\n",
      "RangeIndex: 708871 entries, 0 to 708870\n",
      "Data columns (total 9 columns):\n",
      " #   Column                 Non-Null Count   Dtype         \n",
      "---  ------                 --------------   -----         \n",
      " 0   index                  708871 non-null  int64         \n",
      " 1   member_name            707593 non-null  object        \n",
      " 2   sitting_date           708871 non-null  datetime64[ns]\n",
      " 3   parliamentary_period   708871 non-null  object        \n",
      " 4   parliamentary_session  708871 non-null  object        \n",
      " 5   parliamentary_sitting  708871 non-null  object        \n",
      " 6   political_party        708871 non-null  object        \n",
      " 7   speaker_info           189055 non-null  object        \n",
      " 8   speech                 708871 non-null  object        \n",
      "dtypes: datetime64[ns](1), int64(1), object(7)\n",
      "memory usage: 48.7+ MB\n"
     ]
    }
   ],
   "source": [
    "proceedings.info()"
   ]
  },
  {
   "cell_type": "code",
   "execution_count": 22,
   "metadata": {},
   "outputs": [
    {
     "data": {
      "text/plain": [
       "<AxesSubplot:ylabel='political_party'>"
      ]
     },
     "execution_count": 22,
     "metadata": {},
     "output_type": "execute_result"
    },
    {
     "data": {
      "image/png": "[encoded data removed]",
      "text/plain": [
       "<Figure size 720x576 with 1 Axes>"
      ]
     },
     "metadata": {
      "needs_background": "light"
     },
     "output_type": "display_data"
    }
   ],
   "source": [
    "party_speeches.plot(x=\"political_party\", y=\"speech\", kind='barh', figsize=(10,8))"
   ]
  },
  {
   "cell_type": "markdown",
   "metadata": {},
   "source": [
    "### Speeches Over Time"
   ]
  },
  {
   "cell_type": "markdown",
   "metadata": {},
   "source": [
    "**I am asked to analyze the speeches made over time. I  should create a df with seperate month and year columns and then group by month and then by year with count to see how many speeches have been given per month and per year. Doing the same by date would not be fruitful because of the huge amount of data.**"
   ]
  },
  {
   "cell_type": "code",
   "execution_count": 23,
   "metadata": {},
   "outputs": [],
   "source": [
    "speeches_overtime = proceedings[['political_party','speech', 'sitting_date']]"
   ]
  },
  {
   "cell_type": "code",
   "execution_count": 24,
   "metadata": {},
   "outputs": [
    {
     "name": "stderr",
     "output_type": "stream",
     "text": [
      "<ipython-input-24-a38ec2a7ff7c>:1: SettingWithCopyWarning: \n",
      "A value is trying to be set on a copy of a slice from a DataFrame.\n",
      "Try using .loc[row_indexer,col_indexer] = value instead\n",
      "\n",
      "See the caveats in the documentation: https://pandas.pydata.org/pandas-docs/stable/user_guide/indexing.html#returning-a-view-versus-a-copy\n",
      "<ipython-input-24-a38ec2a7ff7c>:2: SettingWithCopyWarning: \n",
      "A value is trying to be set on a copy of a slice from a DataFrame.\n",
      "Try using .loc[row_indexer,col_indexer] = value instead\n",
      "\n",
      "See the caveats in the documentation: https://pandas.pydata.org/pandas-docs/stable/user_guide/indexing.html#returning-a-view-versus-a-copy\n"
     ]
    },
    {
     "data": {
      "text/html": [
       "<div>\n",
       "<style scoped>\n",
       "    .dataframe tbody tr th:only-of-type {\n",
       "        vertical-align: middle;\n",
       "    }\n",
       "\n",
       "    .dataframe tbody tr th {\n",
       "        vertical-align: top;\n",
       "    }\n",
       "\n",
       "    .dataframe thead th {\n",
       "        text-align: right;\n",
       "    }\n",
       "</style>\n",
       "<table border=\"1\" class=\"dataframe\">\n",
       "  <thead>\n",
       "    <tr style=\"text-align: right;\">\n",
       "      <th></th>\n",
       "      <th>political_party</th>\n",
       "      <th>speech</th>\n",
       "      <th>sitting_date</th>\n",
       "      <th>month</th>\n",
       "      <th>year</th>\n",
       "    </tr>\n",
       "  </thead>\n",
       "  <tbody>\n",
       "    <tr>\n",
       "      <th>0</th>\n",
       "      <td>πανελληνιο σοσιαλιστικο κινημα</td>\n",
       "      <td>Κύριε Πρόεδρε, δεν έχουν μοιραστεί όλα τα ψηφ...</td>\n",
       "      <td>1989-07-05</td>\n",
       "      <td>7</td>\n",
       "      <td>1989</td>\n",
       "    </tr>\n",
       "    <tr>\n",
       "      <th>1</th>\n",
       "      <td>νεα δημοκρατια</td>\n",
       "      <td>~\"ΕΦΗΜΕΡΙΣ ΤΗΣ ΚΥΒΕΡΝΗΣΕΩΣ ΤΗΣ ΕΛΛΗΝΙΚΗΣ ΔΗΜΟ...</td>\n",
       "      <td>1989-07-05</td>\n",
       "      <td>7</td>\n",
       "      <td>1989</td>\n",
       "    </tr>\n",
       "    <tr>\n",
       "      <th>2</th>\n",
       "      <td>πανελληνιο σοσιαλιστικο κινημα</td>\n",
       "      <td>Να μας τη διαβάσετε.</td>\n",
       "      <td>1989-07-05</td>\n",
       "      <td>7</td>\n",
       "      <td>1989</td>\n",
       "    </tr>\n",
       "    <tr>\n",
       "      <th>3</th>\n",
       "      <td>πανελληνιο σοσιαλιστικο κινημα</td>\n",
       "      <td>Κύριε Πρόεδρε, κατ' αρχή θα πω μερικές κουβέν...</td>\n",
       "      <td>1989-07-05</td>\n",
       "      <td>7</td>\n",
       "      <td>1989</td>\n",
       "    </tr>\n",
       "    <tr>\n",
       "      <th>4</th>\n",
       "      <td>πανελληνιο σοσιαλιστικο κινημα</td>\n",
       "      <td>Λέει ο Κανονισμός ότι σε εξαιρετικές περιπτώσ...</td>\n",
       "      <td>1989-07-05</td>\n",
       "      <td>7</td>\n",
       "      <td>1989</td>\n",
       "    </tr>\n",
       "  </tbody>\n",
       "</table>\n",
       "</div>"
      ],
      "text/plain": [
       "                  political_party  \\\n",
       "0  πανελληνιο σοσιαλιστικο κινημα   \n",
       "1                  νεα δημοκρατια   \n",
       "2  πανελληνιο σοσιαλιστικο κινημα   \n",
       "3  πανελληνιο σοσιαλιστικο κινημα   \n",
       "4  πανελληνιο σοσιαλιστικο κινημα   \n",
       "\n",
       "                                              speech sitting_date  month  year  \n",
       "0   Κύριε Πρόεδρε, δεν έχουν μοιραστεί όλα τα ψηφ...   1989-07-05      7  1989  \n",
       "1   ~\"ΕΦΗΜΕΡΙΣ ΤΗΣ ΚΥΒΕΡΝΗΣΕΩΣ ΤΗΣ ΕΛΛΗΝΙΚΗΣ ΔΗΜΟ...   1989-07-05      7  1989  \n",
       "2                               Να μας τη διαβάσετε.   1989-07-05      7  1989  \n",
       "3   Κύριε Πρόεδρε, κατ' αρχή θα πω μερικές κουβέν...   1989-07-05      7  1989  \n",
       "4   Λέει ο Κανονισμός ότι σε εξαιρετικές περιπτώσ...   1989-07-05      7  1989  "
      ]
     },
     "execution_count": 24,
     "metadata": {},
     "output_type": "execute_result"
    }
   ],
   "source": [
    "speeches_overtime ['month']= proceedings['sitting_date'].dt.month\n",
    "speeches_overtime ['year']= proceedings['sitting_date'].dt.year\n",
    "\n",
    "speeches_overtime.head()"
   ]
  },
  {
   "cell_type": "code",
   "execution_count": 25,
   "metadata": {},
   "outputs": [],
   "source": [
    "speeches_overyear = speeches_overtime[['speech','year']]"
   ]
  },
  {
   "cell_type": "code",
   "execution_count": 26,
   "metadata": {},
   "outputs": [
    {
     "name": "stdout",
     "output_type": "stream",
     "text": [
      "(30, 2)\n"
     ]
    },
    {
     "data": {
      "text/html": [
       "<div>\n",
       "<style scoped>\n",
       "    .dataframe tbody tr th:only-of-type {\n",
       "        vertical-align: middle;\n",
       "    }\n",
       "\n",
       "    .dataframe tbody tr th {\n",
       "        vertical-align: top;\n",
       "    }\n",
       "\n",
       "    .dataframe thead th {\n",
       "        text-align: right;\n",
       "    }\n",
       "</style>\n",
       "<table border=\"1\" class=\"dataframe\">\n",
       "  <thead>\n",
       "    <tr style=\"text-align: right;\">\n",
       "      <th></th>\n",
       "      <th>year</th>\n",
       "      <th>speech</th>\n",
       "    </tr>\n",
       "  </thead>\n",
       "  <tbody>\n",
       "    <tr>\n",
       "      <th>0</th>\n",
       "      <td>1989</td>\n",
       "      <td>6794</td>\n",
       "    </tr>\n",
       "    <tr>\n",
       "      <th>1</th>\n",
       "      <td>1990</td>\n",
       "      <td>23471</td>\n",
       "    </tr>\n",
       "    <tr>\n",
       "      <th>2</th>\n",
       "      <td>1991</td>\n",
       "      <td>30529</td>\n",
       "    </tr>\n",
       "    <tr>\n",
       "      <th>3</th>\n",
       "      <td>1992</td>\n",
       "      <td>34194</td>\n",
       "    </tr>\n",
       "    <tr>\n",
       "      <th>4</th>\n",
       "      <td>1993</td>\n",
       "      <td>28896</td>\n",
       "    </tr>\n",
       "  </tbody>\n",
       "</table>\n",
       "</div>"
      ],
      "text/plain": [
       "   year  speech\n",
       "0  1989    6794\n",
       "1  1990   23471\n",
       "2  1991   30529\n",
       "3  1992   34194\n",
       "4  1993   28896"
      ]
     },
     "execution_count": 26,
     "metadata": {},
     "output_type": "execute_result"
    }
   ],
   "source": [
    "speeches_overyear = speeches_overyear.groupby('year',as_index=False).count() \n",
    "\n",
    "print (speeches_overyear.shape)\n",
    "speeches_overyear.head()"
   ]
  },
  {
   "cell_type": "code",
   "execution_count": 27,
   "metadata": {},
   "outputs": [
    {
     "data": {
      "image/png": "[encoded data removed]",
      "text/plain": [
       "<Figure size 1080x360 with 1 Axes>"
      ]
     },
     "metadata": {
      "needs_background": "light"
     },
     "output_type": "display_data"
    }
   ],
   "source": [
    "fig = plt.figure(figsize=(15,5))\n",
    "plt.xlabel('Years Under Study')\n",
    "plt.ylabel('Amount of Speeches')\n",
    "\n",
    "plt.plot(speeches_overyear['year'], speeches_overyear['speech'], label='Speeches over the Years', color='blue')\n",
    "    \n",
    "plt.show()"
   ]
  },
  {
   "cell_type": "markdown",
   "metadata": {},
   "source": [
    "**What I would normally look for in a plot that shows the amount of Speeches given throughout the years would be what could propably act as a cause for spiking parliament talks. The first thing I observe are the highest spikes on my plot which are in the years 1993-1997-2005-2008-2014-2016. The spiking in speeches in 1993 could be caused from the parliament elections that took place that year, although I could not see the same pattern for the other election years. What is more noticeable is that there is a spike in speeches one year previous to the election years.  That could be caused due to conflicts and debates happening critisizing the coverment at the time, heated arguments between the political parties about different approaches of the matters. Moreover, the spike in 2008 coould have been caused from the riots that happened in Athens which almost burnt down and where a teenager was shot to death by a police officer. Last, the biggest spike in my plot is happening during the years 2016 and 2017. These were the years after the election of 2015 that elected for the first time in the history of Greece a left party. The years that followed had a lot of changes and critisizing, conflicts between the parties, the economic crisis was at its peak.**"
   ]
  },
  {
   "cell_type": "code",
   "execution_count": 28,
   "metadata": {},
   "outputs": [],
   "source": [
    "speeches_overmonth = speeches_overtime[['speech','month']]"
   ]
  },
  {
   "cell_type": "code",
   "execution_count": 29,
   "metadata": {},
   "outputs": [
    {
     "name": "stdout",
     "output_type": "stream",
     "text": [
      "(12, 2)\n"
     ]
    },
    {
     "data": {
      "text/html": [
       "<div>\n",
       "<style scoped>\n",
       "    .dataframe tbody tr th:only-of-type {\n",
       "        vertical-align: middle;\n",
       "    }\n",
       "\n",
       "    .dataframe tbody tr th {\n",
       "        vertical-align: top;\n",
       "    }\n",
       "\n",
       "    .dataframe thead th {\n",
       "        text-align: right;\n",
       "    }\n",
       "</style>\n",
       "<table border=\"1\" class=\"dataframe\">\n",
       "  <thead>\n",
       "    <tr style=\"text-align: right;\">\n",
       "      <th></th>\n",
       "      <th>month</th>\n",
       "      <th>speech</th>\n",
       "    </tr>\n",
       "  </thead>\n",
       "  <tbody>\n",
       "    <tr>\n",
       "      <th>0</th>\n",
       "      <td>1</td>\n",
       "      <td>62039</td>\n",
       "    </tr>\n",
       "    <tr>\n",
       "      <th>1</th>\n",
       "      <td>2</td>\n",
       "      <td>70138</td>\n",
       "    </tr>\n",
       "    <tr>\n",
       "      <th>2</th>\n",
       "      <td>3</td>\n",
       "      <td>63847</td>\n",
       "    </tr>\n",
       "    <tr>\n",
       "      <th>3</th>\n",
       "      <td>4</td>\n",
       "      <td>46206</td>\n",
       "    </tr>\n",
       "    <tr>\n",
       "      <th>4</th>\n",
       "      <td>5</td>\n",
       "      <td>61015</td>\n",
       "    </tr>\n",
       "  </tbody>\n",
       "</table>\n",
       "</div>"
      ],
      "text/plain": [
       "   month  speech\n",
       "0      1   62039\n",
       "1      2   70138\n",
       "2      3   63847\n",
       "3      4   46206\n",
       "4      5   61015"
      ]
     },
     "execution_count": 29,
     "metadata": {},
     "output_type": "execute_result"
    }
   ],
   "source": [
    "speeches_overmonth = speeches_overmonth.groupby('month',as_index=False).count() \n",
    "\n",
    "print (speeches_overmonth.shape)\n",
    "speeches_overmonth.head()"
   ]
  },
  {
   "cell_type": "code",
   "execution_count": 30,
   "metadata": {},
   "outputs": [
    {
     "data": {
      "image/png": "[encoded data removed]",
      "text/plain": [
       "<Figure size 1080x360 with 1 Axes>"
      ]
     },
     "metadata": {
      "needs_background": "light"
     },
     "output_type": "display_data"
    }
   ],
   "source": [
    "fig = plt.figure(figsize=(15,5))\n",
    "plt.xlabel('Months')\n",
    "plt.ylabel('Amount of Speeches')\n",
    "\n",
    "plt.plot(speeches_overmonth['month'], speeches_overmonth['speech'], label='Speeches through Months')\n",
    "    \n",
    "plt.show()"
   ]
  },
  {
   "cell_type": "markdown",
   "metadata": {},
   "source": [
    "**The data that show the speeches over the months show us that most speeches are happening during the fall and winter months. The highest peaks are in February and November and this could propably be happening because the goverment announces the plans for the year that started and also at the end maybe there is a retrospect at the end of it. Last, it is normal for August to have the least speeches since it is the main summer month and a lot of deprtments of the parliament close due to summer vacation.**"
   ]
  },
  {
   "cell_type": "markdown",
   "metadata": {},
   "source": [
    "### Speeches per Political Party & Time "
   ]
  },
  {
   "cell_type": "code",
   "execution_count": 31,
   "metadata": {},
   "outputs": [],
   "source": [
    "speeches_party_year = speeches_overtime[['political_party','speech', 'year']]"
   ]
  },
  {
   "cell_type": "code",
   "execution_count": 32,
   "metadata": {
    "scrolled": true
   },
   "outputs": [
    {
     "name": "stdout",
     "output_type": "stream",
     "text": [
      "(195,)\n"
     ]
    },
    {
     "data": {
      "text/plain": [
       "political_party                       year\n",
       "ανεξαρτητοι ελληνες - πανος καμμενος  2009      72\n",
       "                                      2010     531\n",
       "                                      2011      83\n",
       "                                      2012     870\n",
       "                                      2013    1705\n",
       "Name: year, dtype: int64"
      ]
     },
     "execution_count": 32,
     "metadata": {},
     "output_type": "execute_result"
    }
   ],
   "source": [
    "speeches_party_year = speeches_party_year.groupby(['political_party', 'year'])['year'].count()\n",
    "\n",
    "print (speeches_party_year.shape)\n",
    "speeches_party_year.head()"
   ]
  },
  {
   "cell_type": "code",
   "execution_count": 33,
   "metadata": {},
   "outputs": [],
   "source": [
    "speeches_party_month = speeches_overtime[['political_party','speech', 'month']]"
   ]
  },
  {
   "cell_type": "code",
   "execution_count": 34,
   "metadata": {},
   "outputs": [
    {
     "name": "stdout",
     "output_type": "stream",
     "text": [
      "(180,)\n"
     ]
    },
    {
     "data": {
      "text/plain": [
       "political_party                       month\n",
       "ανεξαρτητοι ελληνες - πανος καμμενος  1        553\n",
       "                                      2        285\n",
       "                                      3        436\n",
       "                                      4        364\n",
       "                                      5        565\n",
       "Name: month, dtype: int64"
      ]
     },
     "execution_count": 34,
     "metadata": {},
     "output_type": "execute_result"
    }
   ],
   "source": [
    "speeches_party_month = speeches_party_month.groupby(['political_party', 'month'])['month'].count()\n",
    "\n",
    "\n",
    "print (speeches_party_month.shape)\n",
    "speeches_party_month.head()"
   ]
  },
  {
   "cell_type": "markdown",
   "metadata": {},
   "source": [
    "### Speakers per Political Party "
   ]
  },
  {
   "cell_type": "code",
   "execution_count": 35,
   "metadata": {},
   "outputs": [],
   "source": [
    "speakers_party = proceedings[['political_party','member_name']]\n",
    "speakers_party = speakers_party.drop_duplicates(subset=['member_name'])"
   ]
  },
  {
   "cell_type": "code",
   "execution_count": 36,
   "metadata": {},
   "outputs": [
    {
     "name": "stdout",
     "output_type": "stream",
     "text": [
      "(15,)\n"
     ]
    },
    {
     "data": {
      "text/plain": [
       "political_party\n",
       "ανεξαρτητοι ελληνες - πανος καμμενος                                               14\n",
       "ανεξαρτητοι ελληνες εθνικη πατριωτικη δημοκρατικη συμμαχια                          8\n",
       "δημοκρατικη αριστερα                                                               12\n",
       "δημοκρατικη συμπαραταξη (πανελληνιο σοσιαλιστικο κινημα - δημοκρατικη αριστερα)     2\n",
       "δημοκρατικο κοινωνικο κινημα                                                        8\n",
       "Name: member_name, dtype: int64"
      ]
     },
     "execution_count": 36,
     "metadata": {},
     "output_type": "execute_result"
    }
   ],
   "source": [
    "speakers_party= speakers_party.groupby('political_party')['member_name'].count()\n",
    "\n",
    "#speakers_party['political_party'] = speakers_party.index\n",
    "#speakers_party['member_name'] = speakers_party.index\n",
    "\n",
    "print (speakers_party.shape)\n",
    "speakers_party.head()"
   ]
  },
  {
   "cell_type": "markdown",
   "metadata": {},
   "source": [
    "# Classification"
   ]
  },
  {
   "cell_type": "markdown",
   "metadata": {},
   "source": [
    "**The goal in this part of the assignment is to create algorithms that can classify speeches with the target of political party.** "
   ]
  },
  {
   "cell_type": "code",
   "execution_count": 37,
   "metadata": {},
   "outputs": [
    {
     "name": "stderr",
     "output_type": "stream",
     "text": [
      "C:\\Users\\maria\\anaconda3\\lib\\site-packages\\pandas\\core\\frame.py:4296: SettingWithCopyWarning: \n",
      "A value is trying to be set on a copy of a slice from a DataFrame\n",
      "\n",
      "See the caveats in the documentation: https://pandas.pydata.org/pandas-docs/stable/user_guide/indexing.html#returning-a-view-versus-a-copy\n"
     ]
    },
    {
     "data": {
      "text/html": [
       "<div>\n",
       "<style scoped>\n",
       "    .dataframe tbody tr th:only-of-type {\n",
       "        vertical-align: middle;\n",
       "    }\n",
       "\n",
       "    .dataframe tbody tr th {\n",
       "        vertical-align: top;\n",
       "    }\n",
       "\n",
       "    .dataframe thead th {\n",
       "        text-align: right;\n",
       "    }\n",
       "</style>\n",
       "<table border=\"1\" class=\"dataframe\">\n",
       "  <thead>\n",
       "    <tr style=\"text-align: right;\">\n",
       "      <th></th>\n",
       "      <th>speech</th>\n",
       "      <th>party</th>\n",
       "    </tr>\n",
       "  </thead>\n",
       "  <tbody>\n",
       "    <tr>\n",
       "      <th>0</th>\n",
       "      <td>Κύριε Πρόεδρε, δεν έχουν μοιραστεί όλα τα ψηφ...</td>\n",
       "      <td>πανελληνιο σοσιαλιστικο κινημα</td>\n",
       "    </tr>\n",
       "    <tr>\n",
       "      <th>1</th>\n",
       "      <td>~\"ΕΦΗΜΕΡΙΣ ΤΗΣ ΚΥΒΕΡΝΗΣΕΩΣ ΤΗΣ ΕΛΛΗΝΙΚΗΣ ΔΗΜΟ...</td>\n",
       "      <td>νεα δημοκρατια</td>\n",
       "    </tr>\n",
       "    <tr>\n",
       "      <th>2</th>\n",
       "      <td>Να μας τη διαβάσετε.</td>\n",
       "      <td>πανελληνιο σοσιαλιστικο κινημα</td>\n",
       "    </tr>\n",
       "    <tr>\n",
       "      <th>3</th>\n",
       "      <td>Κύριε Πρόεδρε, κατ' αρχή θα πω μερικές κουβέν...</td>\n",
       "      <td>πανελληνιο σοσιαλιστικο κινημα</td>\n",
       "    </tr>\n",
       "    <tr>\n",
       "      <th>4</th>\n",
       "      <td>Λέει ο Κανονισμός ότι σε εξαιρετικές περιπτώσ...</td>\n",
       "      <td>πανελληνιο σοσιαλιστικο κινημα</td>\n",
       "    </tr>\n",
       "  </tbody>\n",
       "</table>\n",
       "</div>"
      ],
      "text/plain": [
       "                                              speech  \\\n",
       "0   Κύριε Πρόεδρε, δεν έχουν μοιραστεί όλα τα ψηφ...   \n",
       "1   ~\"ΕΦΗΜΕΡΙΣ ΤΗΣ ΚΥΒΕΡΝΗΣΕΩΣ ΤΗΣ ΕΛΛΗΝΙΚΗΣ ΔΗΜΟ...   \n",
       "2                               Να μας τη διαβάσετε.   \n",
       "3   Κύριε Πρόεδρε, κατ' αρχή θα πω μερικές κουβέν...   \n",
       "4   Λέει ο Κανονισμός ότι σε εξαιρετικές περιπτώσ...   \n",
       "\n",
       "                            party  \n",
       "0  πανελληνιο σοσιαλιστικο κινημα  \n",
       "1                  νεα δημοκρατια  \n",
       "2  πανελληνιο σοσιαλιστικο κινημα  \n",
       "3  πανελληνιο σοσιαλιστικο κινημα  \n",
       "4  πανελληνιο σοσιαλιστικο κινημα  "
      ]
     },
     "execution_count": 37,
     "metadata": {},
     "output_type": "execute_result"
    }
   ],
   "source": [
    "dataframe = proceedings[['speech','political_party']]\n",
    "\n",
    "dataframe.rename(columns={\"political_party\": \"party\"}, inplace=True)\n",
    "\n",
    "dataframe.head()"
   ]
  },
  {
   "cell_type": "code",
   "execution_count": 38,
   "metadata": {},
   "outputs": [],
   "source": [
    "speech= dataframe.speech\n",
    "party= dataframe.party\n",
    "party_names = sorted(dataframe.party.unique().tolist())"
   ]
  },
  {
   "cell_type": "code",
   "execution_count": 39,
   "metadata": {},
   "outputs": [],
   "source": [
    "X_train, X_test, y_train, y_test = train_test_split(speech, party, test_size=0.25, random_state = 7)"
   ]
  },
  {
   "cell_type": "code",
   "execution_count": 40,
   "metadata": {},
   "outputs": [],
   "source": [
    "import re\n",
    "\n",
    "def preprocess_dataframe(dataframe):\n",
    "    dataframe = dataframe.lower()\n",
    "    dataframe = re.sub(r'\\d+', '', dataframe)\n",
    "    return dataframe"
   ]
  },
  {
   "cell_type": "markdown",
   "metadata": {},
   "source": [
    "**In the following model we check every single word separately.**"
   ]
  },
  {
   "cell_type": "code",
   "execution_count": 41,
   "metadata": {},
   "outputs": [
    {
     "name": "stdout",
     "output_type": "stream",
     "text": [
      "Score: 0.4293469060704895\n"
     ]
    },
    {
     "name": "stderr",
     "output_type": "stream",
     "text": [
      "C:\\Users\\maria\\anaconda3\\lib\\site-packages\\sklearn\\metrics\\_classification.py:1221: UndefinedMetricWarning: Precision and F-score are ill-defined and being set to 0.0 in labels with no predicted samples. Use `zero_division` parameter to control this behavior.\n"
     ]
    },
    {
     "name": "stdout",
     "output_type": "stream",
     "text": [
      "                                                                                 precision    recall  f1-score   support\n",
      "\n",
      "                                           ανεξαρτητοι ελληνες - πανος καμμενος       0.00      0.00      0.00      1327\n",
      "                     ανεξαρτητοι ελληνες εθνικη πατριωτικη δημοκρατικη συμμαχια       0.00      0.00      0.00      1005\n",
      "                                                           δημοκρατικη αριστερα       0.00      0.00      0.00      1007\n",
      "δημοκρατικη συμπαραταξη (πανελληνιο σοσιαλιστικο κινημα - δημοκρατικη αριστερα)       0.00      0.00      0.00      3876\n",
      "                                                   δημοκρατικο κοινωνικο κινημα       0.00      0.00      0.00      1463\n",
      "                                                                 ενωση κεντρωων       0.00      0.00      0.00      1627\n",
      "                                                    κομμουνιστικο κομμα ελλαδας       0.40      0.32      0.36     15596\n",
      "                                                    λαικος ορθοδοξος συναγερμος       1.00      0.00      0.00      4335\n",
      "                                                   λαικος συνδεσος - χρυση αυγη       0.00      0.00      0.00      3495\n",
      "                                                                 νεα δημοκρατια       0.42      0.65      0.51     58501\n",
      "                                                 πανελληνιο σοσιαλιστικο κινημα       0.44      0.59      0.51     56416\n",
      "                                                                πολιτικη ανοιξη       0.00      0.00      0.00       505\n",
      "                                            συνασπισμος ριζοσπαστικης αριστερας       0.69      0.01      0.02     20477\n",
      "                     συνασπισμος της αριστερας των κινηματων και της οικολογιας       0.00      0.00      0.00      6074\n",
      "                                                                      το ποταμι       0.00      0.00      0.00      1514\n",
      "\n",
      "                                                                       accuracy                           0.43    177218\n",
      "                                                                      macro avg       0.20      0.10      0.09    177218\n",
      "                                                                   weighted avg       0.42      0.43      0.36    177218\n",
      "\n"
     ]
    }
   ],
   "source": [
    "uni_dataframeclf = Pipeline([('vect', CountVectorizer(preprocessor=preprocess_dataframe)),\n",
    "                     ('tfidf', TfidfTransformer()),\n",
    "                     ('clf', MultinomialNB()),\n",
    "                    ])\n",
    "\n",
    "uni_dataframeclf.fit(X_train, y_train)\n",
    "\n",
    "predicted1 = uni_dataframeclf.predict(X_test)\n",
    "print('Score:', np.mean(predicted1 == y_test), end='\\n')\n",
    "\n",
    "print(classification_report(y_test, predicted1,\n",
    "                                    target_names=party_names))"
   ]
  },
  {
   "cell_type": "markdown",
   "metadata": {},
   "source": [
    "**Following I am going to check groups of words by two and by three to see how the score changes. This breaks down the words of the sentences in the text of speeches. For example in the sentence \"This is a sentence\", this will be broken down This is -is a -a sentence and by three words respectively.**"
   ]
  },
  {
   "cell_type": "code",
   "execution_count": 42,
   "metadata": {},
   "outputs": [
    {
     "ename": "KeyboardInterrupt",
     "evalue": "",
     "output_type": "error",
     "traceback": [
      "\u001b[1;31m---------------------------------------------------------------------------\u001b[0m",
      "\u001b[1;31mKeyboardInterrupt\u001b[0m                         Traceback (most recent call last)",
      "\u001b[1;32m<ipython-input-42-b505f0c53379>\u001b[0m in \u001b[0;36m<module>\u001b[1;34m\u001b[0m\n\u001b[0;32m      6\u001b[0m \u001b[0mbi_dataframeclf\u001b[0m\u001b[1;33m.\u001b[0m\u001b[0mfit\u001b[0m\u001b[1;33m(\u001b[0m\u001b[0mX_train\u001b[0m\u001b[1;33m,\u001b[0m \u001b[0my_train\u001b[0m\u001b[1;33m)\u001b[0m\u001b[1;33m\u001b[0m\u001b[1;33m\u001b[0m\u001b[0m\n\u001b[0;32m      7\u001b[0m \u001b[1;33m\u001b[0m\u001b[0m\n\u001b[1;32m----> 8\u001b[1;33m \u001b[0mpredicted2\u001b[0m \u001b[1;33m=\u001b[0m \u001b[0mbi_dataframeclf\u001b[0m\u001b[1;33m.\u001b[0m\u001b[0mpredict\u001b[0m\u001b[1;33m(\u001b[0m\u001b[0mX_test\u001b[0m\u001b[1;33m)\u001b[0m\u001b[1;33m\u001b[0m\u001b[1;33m\u001b[0m\u001b[0m\n\u001b[0m\u001b[0;32m      9\u001b[0m \u001b[0mprint\u001b[0m\u001b[1;33m(\u001b[0m\u001b[1;34m'Score:'\u001b[0m\u001b[1;33m,\u001b[0m \u001b[0mnp\u001b[0m\u001b[1;33m.\u001b[0m\u001b[0mmean\u001b[0m\u001b[1;33m(\u001b[0m\u001b[0mpredicted2\u001b[0m \u001b[1;33m==\u001b[0m \u001b[0my_test\u001b[0m\u001b[1;33m)\u001b[0m\u001b[1;33m,\u001b[0m \u001b[0mend\u001b[0m\u001b[1;33m=\u001b[0m\u001b[1;34m'\\n'\u001b[0m\u001b[1;33m)\u001b[0m\u001b[1;33m\u001b[0m\u001b[1;33m\u001b[0m\u001b[0m\n\u001b[0;32m     10\u001b[0m \u001b[1;33m\u001b[0m\u001b[0m\n",
      "\u001b[1;32m~\\anaconda3\\lib\\site-packages\\sklearn\\utils\\metaestimators.py\u001b[0m in \u001b[0;36m<lambda>\u001b[1;34m(*args, **kwargs)\u001b[0m\n\u001b[0;32m    117\u001b[0m \u001b[1;33m\u001b[0m\u001b[0m\n\u001b[0;32m    118\u001b[0m         \u001b[1;31m# lambda, but not partial, allows help() to work with update_wrapper\u001b[0m\u001b[1;33m\u001b[0m\u001b[1;33m\u001b[0m\u001b[1;33m\u001b[0m\u001b[0m\n\u001b[1;32m--> 119\u001b[1;33m         \u001b[0mout\u001b[0m \u001b[1;33m=\u001b[0m \u001b[1;32mlambda\u001b[0m \u001b[1;33m*\u001b[0m\u001b[0margs\u001b[0m\u001b[1;33m,\u001b[0m \u001b[1;33m**\u001b[0m\u001b[0mkwargs\u001b[0m\u001b[1;33m:\u001b[0m \u001b[0mself\u001b[0m\u001b[1;33m.\u001b[0m\u001b[0mfn\u001b[0m\u001b[1;33m(\u001b[0m\u001b[0mobj\u001b[0m\u001b[1;33m,\u001b[0m \u001b[1;33m*\u001b[0m\u001b[0margs\u001b[0m\u001b[1;33m,\u001b[0m \u001b[1;33m**\u001b[0m\u001b[0mkwargs\u001b[0m\u001b[1;33m)\u001b[0m\u001b[1;33m\u001b[0m\u001b[1;33m\u001b[0m\u001b[0m\n\u001b[0m\u001b[0;32m    120\u001b[0m         \u001b[1;31m# update the docstring of the returned function\u001b[0m\u001b[1;33m\u001b[0m\u001b[1;33m\u001b[0m\u001b[1;33m\u001b[0m\u001b[0m\n\u001b[0;32m    121\u001b[0m         \u001b[0mupdate_wrapper\u001b[0m\u001b[1;33m(\u001b[0m\u001b[0mout\u001b[0m\u001b[1;33m,\u001b[0m \u001b[0mself\u001b[0m\u001b[1;33m.\u001b[0m\u001b[0mfn\u001b[0m\u001b[1;33m)\u001b[0m\u001b[1;33m\u001b[0m\u001b[1;33m\u001b[0m\u001b[0m\n",
      "\u001b[1;32m~\\anaconda3\\lib\\site-packages\\sklearn\\pipeline.py\u001b[0m in \u001b[0;36mpredict\u001b[1;34m(self, X, **predict_params)\u001b[0m\n\u001b[0;32m    405\u001b[0m         \u001b[0mXt\u001b[0m \u001b[1;33m=\u001b[0m \u001b[0mX\u001b[0m\u001b[1;33m\u001b[0m\u001b[1;33m\u001b[0m\u001b[0m\n\u001b[0;32m    406\u001b[0m         \u001b[1;32mfor\u001b[0m \u001b[0m_\u001b[0m\u001b[1;33m,\u001b[0m \u001b[0mname\u001b[0m\u001b[1;33m,\u001b[0m \u001b[0mtransform\u001b[0m \u001b[1;32min\u001b[0m \u001b[0mself\u001b[0m\u001b[1;33m.\u001b[0m\u001b[0m_iter\u001b[0m\u001b[1;33m(\u001b[0m\u001b[0mwith_final\u001b[0m\u001b[1;33m=\u001b[0m\u001b[1;32mFalse\u001b[0m\u001b[1;33m)\u001b[0m\u001b[1;33m:\u001b[0m\u001b[1;33m\u001b[0m\u001b[1;33m\u001b[0m\u001b[0m\n\u001b[1;32m--> 407\u001b[1;33m             \u001b[0mXt\u001b[0m \u001b[1;33m=\u001b[0m \u001b[0mtransform\u001b[0m\u001b[1;33m.\u001b[0m\u001b[0mtransform\u001b[0m\u001b[1;33m(\u001b[0m\u001b[0mXt\u001b[0m\u001b[1;33m)\u001b[0m\u001b[1;33m\u001b[0m\u001b[1;33m\u001b[0m\u001b[0m\n\u001b[0m\u001b[0;32m    408\u001b[0m         \u001b[1;32mreturn\u001b[0m \u001b[0mself\u001b[0m\u001b[1;33m.\u001b[0m\u001b[0msteps\u001b[0m\u001b[1;33m[\u001b[0m\u001b[1;33m-\u001b[0m\u001b[1;36m1\u001b[0m\u001b[1;33m]\u001b[0m\u001b[1;33m[\u001b[0m\u001b[1;33m-\u001b[0m\u001b[1;36m1\u001b[0m\u001b[1;33m]\u001b[0m\u001b[1;33m.\u001b[0m\u001b[0mpredict\u001b[0m\u001b[1;33m(\u001b[0m\u001b[0mXt\u001b[0m\u001b[1;33m,\u001b[0m \u001b[1;33m**\u001b[0m\u001b[0mpredict_params\u001b[0m\u001b[1;33m)\u001b[0m\u001b[1;33m\u001b[0m\u001b[1;33m\u001b[0m\u001b[0m\n\u001b[0;32m    409\u001b[0m \u001b[1;33m\u001b[0m\u001b[0m\n",
      "\u001b[1;32m~\\anaconda3\\lib\\site-packages\\sklearn\\feature_extraction\\text.py\u001b[0m in \u001b[0;36mtransform\u001b[1;34m(self, raw_documents)\u001b[0m\n\u001b[0;32m   1248\u001b[0m \u001b[1;33m\u001b[0m\u001b[0m\n\u001b[0;32m   1249\u001b[0m         \u001b[1;31m# use the same matrix-building strategy as fit_transform\u001b[0m\u001b[1;33m\u001b[0m\u001b[1;33m\u001b[0m\u001b[1;33m\u001b[0m\u001b[0m\n\u001b[1;32m-> 1250\u001b[1;33m         \u001b[0m_\u001b[0m\u001b[1;33m,\u001b[0m \u001b[0mX\u001b[0m \u001b[1;33m=\u001b[0m \u001b[0mself\u001b[0m\u001b[1;33m.\u001b[0m\u001b[0m_count_vocab\u001b[0m\u001b[1;33m(\u001b[0m\u001b[0mraw_documents\u001b[0m\u001b[1;33m,\u001b[0m \u001b[0mfixed_vocab\u001b[0m\u001b[1;33m=\u001b[0m\u001b[1;32mTrue\u001b[0m\u001b[1;33m)\u001b[0m\u001b[1;33m\u001b[0m\u001b[1;33m\u001b[0m\u001b[0m\n\u001b[0m\u001b[0;32m   1251\u001b[0m         \u001b[1;32mif\u001b[0m \u001b[0mself\u001b[0m\u001b[1;33m.\u001b[0m\u001b[0mbinary\u001b[0m\u001b[1;33m:\u001b[0m\u001b[1;33m\u001b[0m\u001b[1;33m\u001b[0m\u001b[0m\n\u001b[0;32m   1252\u001b[0m             \u001b[0mX\u001b[0m\u001b[1;33m.\u001b[0m\u001b[0mdata\u001b[0m\u001b[1;33m.\u001b[0m\u001b[0mfill\u001b[0m\u001b[1;33m(\u001b[0m\u001b[1;36m1\u001b[0m\u001b[1;33m)\u001b[0m\u001b[1;33m\u001b[0m\u001b[1;33m\u001b[0m\u001b[0m\n",
      "\u001b[1;32m~\\anaconda3\\lib\\site-packages\\sklearn\\feature_extraction\\text.py\u001b[0m in \u001b[0;36m_count_vocab\u001b[1;34m(self, raw_documents, fixed_vocab)\u001b[0m\n\u001b[0;32m   1108\u001b[0m         \u001b[1;32mfor\u001b[0m \u001b[0mdoc\u001b[0m \u001b[1;32min\u001b[0m \u001b[0mraw_documents\u001b[0m\u001b[1;33m:\u001b[0m\u001b[1;33m\u001b[0m\u001b[1;33m\u001b[0m\u001b[0m\n\u001b[0;32m   1109\u001b[0m             \u001b[0mfeature_counter\u001b[0m \u001b[1;33m=\u001b[0m \u001b[1;33m{\u001b[0m\u001b[1;33m}\u001b[0m\u001b[1;33m\u001b[0m\u001b[1;33m\u001b[0m\u001b[0m\n\u001b[1;32m-> 1110\u001b[1;33m             \u001b[1;32mfor\u001b[0m \u001b[0mfeature\u001b[0m \u001b[1;32min\u001b[0m \u001b[0manalyze\u001b[0m\u001b[1;33m(\u001b[0m\u001b[0mdoc\u001b[0m\u001b[1;33m)\u001b[0m\u001b[1;33m:\u001b[0m\u001b[1;33m\u001b[0m\u001b[1;33m\u001b[0m\u001b[0m\n\u001b[0m\u001b[0;32m   1111\u001b[0m                 \u001b[1;32mtry\u001b[0m\u001b[1;33m:\u001b[0m\u001b[1;33m\u001b[0m\u001b[1;33m\u001b[0m\u001b[0m\n\u001b[0;32m   1112\u001b[0m                     \u001b[0mfeature_idx\u001b[0m \u001b[1;33m=\u001b[0m \u001b[0mvocabulary\u001b[0m\u001b[1;33m[\u001b[0m\u001b[0mfeature\u001b[0m\u001b[1;33m]\u001b[0m\u001b[1;33m\u001b[0m\u001b[1;33m\u001b[0m\u001b[0m\n",
      "\u001b[1;32m~\\anaconda3\\lib\\site-packages\\sklearn\\feature_extraction\\text.py\u001b[0m in \u001b[0;36m_analyze\u001b[1;34m(doc, analyzer, tokenizer, ngrams, preprocessor, decoder, stop_words)\u001b[0m\n\u001b[0;32m    109\u001b[0m                 \u001b[0mdoc\u001b[0m \u001b[1;33m=\u001b[0m \u001b[0mngrams\u001b[0m\u001b[1;33m(\u001b[0m\u001b[0mdoc\u001b[0m\u001b[1;33m,\u001b[0m \u001b[0mstop_words\u001b[0m\u001b[1;33m)\u001b[0m\u001b[1;33m\u001b[0m\u001b[1;33m\u001b[0m\u001b[0m\n\u001b[0;32m    110\u001b[0m             \u001b[1;32melse\u001b[0m\u001b[1;33m:\u001b[0m\u001b[1;33m\u001b[0m\u001b[1;33m\u001b[0m\u001b[0m\n\u001b[1;32m--> 111\u001b[1;33m                 \u001b[0mdoc\u001b[0m \u001b[1;33m=\u001b[0m \u001b[0mngrams\u001b[0m\u001b[1;33m(\u001b[0m\u001b[0mdoc\u001b[0m\u001b[1;33m)\u001b[0m\u001b[1;33m\u001b[0m\u001b[1;33m\u001b[0m\u001b[0m\n\u001b[0m\u001b[0;32m    112\u001b[0m     \u001b[1;32mreturn\u001b[0m \u001b[0mdoc\u001b[0m\u001b[1;33m\u001b[0m\u001b[1;33m\u001b[0m\u001b[0m\n\u001b[0;32m    113\u001b[0m \u001b[1;33m\u001b[0m\u001b[0m\n",
      "\u001b[1;32m~\\anaconda3\\lib\\site-packages\\sklearn\\feature_extraction\\text.py\u001b[0m in \u001b[0;36m_word_ngrams\u001b[1;34m(self, tokens, stop_words)\u001b[0m\n\u001b[0;32m    222\u001b[0m         \u001b[1;32mreturn\u001b[0m \u001b[0mdoc\u001b[0m\u001b[1;33m\u001b[0m\u001b[1;33m\u001b[0m\u001b[0m\n\u001b[0;32m    223\u001b[0m \u001b[1;33m\u001b[0m\u001b[0m\n\u001b[1;32m--> 224\u001b[1;33m     \u001b[1;32mdef\u001b[0m \u001b[0m_word_ngrams\u001b[0m\u001b[1;33m(\u001b[0m\u001b[0mself\u001b[0m\u001b[1;33m,\u001b[0m \u001b[0mtokens\u001b[0m\u001b[1;33m,\u001b[0m \u001b[0mstop_words\u001b[0m\u001b[1;33m=\u001b[0m\u001b[1;32mNone\u001b[0m\u001b[1;33m)\u001b[0m\u001b[1;33m:\u001b[0m\u001b[1;33m\u001b[0m\u001b[1;33m\u001b[0m\u001b[0m\n\u001b[0m\u001b[0;32m    225\u001b[0m         \u001b[1;34m\"\"\"Turn tokens into a sequence of n-grams after stop words filtering\"\"\"\u001b[0m\u001b[1;33m\u001b[0m\u001b[1;33m\u001b[0m\u001b[0m\n\u001b[0;32m    226\u001b[0m         \u001b[1;31m# handle stop words\u001b[0m\u001b[1;33m\u001b[0m\u001b[1;33m\u001b[0m\u001b[1;33m\u001b[0m\u001b[0m\n",
      "\u001b[1;31mKeyboardInterrupt\u001b[0m: "
     ]
    }
   ],
   "source": [
    "bi_dataframeclf = Pipeline([('vect', CountVectorizer(ngram_range=(1, 2),preprocessor=preprocess_dataframe)),\n",
    "                     ('tfidf', TfidfTransformer()),\n",
    "                     ('clf', MultinomialNB()),\n",
    "                    ])\n",
    "\n",
    "bi_dataframeclf.fit(X_train, y_train)\n",
    "\n",
    "predicted2 = bi_dataframeclf.predict(X_test)\n",
    "print('Score:', np.mean(predicted2 == y_test), end='\\n')\n",
    "\n",
    "print(classification_report(y_test, predicted2,\n",
    "                                    target_names=party_names))"
   ]
  },
  {
   "cell_type": "code",
   "execution_count": null,
   "metadata": {},
   "outputs": [],
   "source": [
    "tri_dataframeclf = Pipeline([('vect', CountVectorizer(ngram_range=(1, 3),preprocessor=preprocess_dataframe)),\n",
    "                     ('tfidf', TfidfTransformer()),\n",
    "                     ('clf', MultinomialNB()),\n",
    "                    ])\n",
    "\n",
    "tri_dataframeclf.fit(X_train, y_train)\n",
    "\n",
    "predicted3 = tri_dataframeclf.predict(X_test)\n",
    "print('Score:', np.mean(predicted3 == y_test), end='\\n')\n",
    "\n",
    "print(classification_report(y_test, predicted3,\n",
    "                                    target_names=party_names))"
   ]
  },
  {
   "cell_type": "markdown",
   "metadata": {},
   "source": [
    "**The thrid model has slightly better score than the other two and when we use 3 the features increase massively and that is why it took a lot of computational time (more than two hours), the best choice at this point is to use the second best model which is the first one.**"
   ]
  },
  {
   "cell_type": "markdown",
   "metadata": {},
   "source": [
    "**Moving forward I will run a dummy classifier to check the difference of accuracy from using simple rules to more complicated**"
   ]
  },
  {
   "cell_type": "code",
   "execution_count": null,
   "metadata": {},
   "outputs": [],
   "source": [
    "from sklearn.dummy import DummyClassifier\n",
    "\n",
    "uni_dummy = Pipeline([('vect', CountVectorizer(preprocessor=preprocess_dataframe)),\n",
    "                     ('tfidf', TfidfTransformer()),\n",
    "                     ('clf', DummyClassifier()),\n",
    "                    ])\n",
    "\n",
    "uni_dummy.fit(X_train, y_train)\n",
    "\n",
    "predicted_1dummy = uni_dummy.predict(X_test)\n",
    "print('Score:', np.mean(predicted_1dummy == y_test), end='\\n')\n",
    "\n",
    "print(classification_report(y_test, predicted_1dummy,\n",
    "                                    target_names=party_names))"
   ]
  },
  {
   "cell_type": "code",
   "execution_count": null,
   "metadata": {},
   "outputs": [],
   "source": [
    "from sklearn.dummy import DummyClassifier\n",
    "\n",
    "bi_dummy = Pipeline([('vect', CountVectorizer(ngram_range=(1, 2),preprocessor=preprocess_dataframe)),\n",
    "                     ('tfidf', TfidfTransformer()),\n",
    "                     ('clf', DummyClassifier()),\n",
    "                    ])\n",
    "\n",
    "bi_dummy.fit(X_train, y_train)\n",
    "\n",
    "predicted_2dummy =bi_dummy.predict(X_test)\n",
    "print('Score:', np.mean(predicted_2dummy == y_test), end='\\n')\n",
    "\n",
    "print(classification_report(y_test, predicted_2dummy,\n",
    "                                    target_names=party_names))"
   ]
  },
  {
   "cell_type": "code",
   "execution_count": null,
   "metadata": {},
   "outputs": [],
   "source": [
    "from sklearn.linear_model import LogisticRegression\n",
    "\n",
    "logreg = Pipeline([('vect', CountVectorizer(preprocessor=preprocess_dataframe)),\n",
    "                     ('tfidf', TfidfTransformer()),\n",
    "                     ('clf', LogisticRegression()),\n",
    "                    ])\n",
    "\n",
    "logreg.fit(X_train, y_train)\n",
    "\n",
    "predicted1 = logreg.predict(X_test)\n",
    "print('Score:', np.mean(predicted1 == y_test), end='\\n')\n",
    "\n",
    "print(classification_report(y_test, predicted1,\n",
    "                                    target_names=party_names))"
   ]
  },
  {
   "cell_type": "markdown",
   "metadata": {},
   "source": [
    "**As it shows above, I used only the uni model because it was the best one.\n",
    "Moving forward I am going to do a reevaluation of my data in terms of quantity of speeches and I am going to remove the parties that have under 10 thousand speeches and redo the above modelling to see if the scores will improve. By doing that I give my model the ability to distinguish better because I have less classes.**"
   ]
  },
  {
   "cell_type": "code",
   "execution_count": null,
   "metadata": {},
   "outputs": [],
   "source": [
    "proceedings['political_party'].value_counts()"
   ]
  },
  {
   "cell_type": "code",
   "execution_count": null,
   "metadata": {},
   "outputs": [],
   "source": [
    "proceedings_new = proceedings[~(proceedings['political_party'].isin(['ενωση κεντρωων', 'δημοκρατικο κοινωνικο κινημα',\n",
    "                                                                 'το ποταμι',\n",
    "                                                                 'ανεξαρτητοι ελληνες - πανος καμμενος',\n",
    "                                                                'ανεξαρτητοι ελληνες εθνικη πατριωτικη δημοκρατικη συμμαχια',\n",
    "                                                                'δημοκρατικη αριστερα','πολιτικη ανοιξη']))]\n",
    "\n",
    "proceedings['political_party'].value_counts()"
   ]
  },
  {
   "cell_type": "code",
   "execution_count": null,
   "metadata": {},
   "outputs": [],
   "source": [
    "dataframe_new = proceedings_new[['speech','political_party']]\n",
    "\n",
    "dataframe_new.rename(columns={\"political_party\": \"party\"}, inplace=True)\n",
    "\n",
    "dataframe_new.head()"
   ]
  },
  {
   "cell_type": "code",
   "execution_count": null,
   "metadata": {},
   "outputs": [],
   "source": [
    "speech= dataframe_new.speech\n",
    "party= dataframe_new.party\n",
    "party_names = sorted(dataframe_new.party.unique().tolist())"
   ]
  },
  {
   "cell_type": "code",
   "execution_count": null,
   "metadata": {},
   "outputs": [],
   "source": [
    "X_train, X_test, y_train, y_test = train_test_split(speech, party, test_size=0.25, random_state = 7)"
   ]
  },
  {
   "cell_type": "code",
   "execution_count": null,
   "metadata": {},
   "outputs": [],
   "source": [
    "import re\n",
    "\n",
    "def preprocess_dataframe(dataframe_new):\n",
    "    dataframe_new = dataframe_new.lower()\n",
    "    dataframe_new = re.sub(r'\\d+', '', dataframe_new)\n",
    "    return dataframe_new"
   ]
  },
  {
   "cell_type": "code",
   "execution_count": null,
   "metadata": {},
   "outputs": [],
   "source": [
    "one_dataframeclf = Pipeline([('vect', CountVectorizer(preprocessor=preprocess_dataframe)),\n",
    "                     ('tfidf', TfidfTransformer()),\n",
    "                     ('clf', MultinomialNB()),\n",
    "                    ])\n",
    "\n",
    "one_dataframeclf.fit(X_train, y_train)\n",
    "\n",
    "predicted1 = one_dataframeclf.predict(X_test)\n",
    "print('Score:', np.mean(predicted1 == y_test), end='\\n')\n",
    "\n",
    "print(classification_report(y_test, predicted1,\n",
    "                                    target_names=party_names))"
   ]
  },
  {
   "cell_type": "code",
   "execution_count": null,
   "metadata": {},
   "outputs": [],
   "source": [
    "two_dataframeclf = Pipeline([('vect', CountVectorizer(ngram_range=(1, 2),preprocessor=preprocess_dataframe)),\n",
    "                     ('tfidf', TfidfTransformer()),\n",
    "                     ('clf', MultinomialNB()),\n",
    "                    ])\n",
    "\n",
    "two_dataframeclf.fit(X_train, y_train)\n",
    "\n",
    "predicted2 = two_dataframeclf.predict(X_test)\n",
    "print('Score:', np.mean(predicted2 == y_test), end='\\n')\n",
    "\n",
    "print(classification_report(y_test, predicted2,\n",
    "                                    target_names=party_names))"
   ]
  },
  {
   "cell_type": "code",
   "execution_count": null,
   "metadata": {},
   "outputs": [],
   "source": [
    "three_dataframeclf = Pipeline([('vect', CountVectorizer(ngram_range=(1, 3),preprocessor=preprocess_dataframe)),\n",
    "                     ('tfidf', TfidfTransformer()),\n",
    "                     ('clf', MultinomialNB()),\n",
    "                    ])\n",
    "\n",
    "three_dataframeclf.fit(X_train, y_train)\n",
    "\n",
    "predicted3 = three_dataframeclf.predict(X_test)\n",
    "print('Score:', np.mean(predicted3 == y_test), end='\\n')\n",
    "\n",
    "print(classification_report(y_test, predicted3,\n",
    "                                    target_names=party_names))"
   ]
  },
  {
   "cell_type": "code",
   "execution_count": null,
   "metadata": {},
   "outputs": [],
   "source": [
    "from sklearn.linear_model import LogisticRegression\n",
    "\n",
    "one_logreg = Pipeline([('vect', CountVectorizer(preprocessor=preprocess_dataframe)),\n",
    "                     ('tfidf', TfidfTransformer()),\n",
    "                     ('clf', LogisticRegression()),\n",
    "                    ])\n",
    "\n",
    "one_logreg.fit(X_train, y_train)\n",
    "\n",
    "predicted1 = one_logreg.predict(X_test)\n",
    "print('Score:', np.mean(predicted1 == y_test), end='\\n')\n",
    "\n",
    "print(classification_report(y_test, predicted1,\n",
    "                                    target_names=party_names))"
   ]
  },
  {
   "cell_type": "code",
   "execution_count": null,
   "metadata": {},
   "outputs": [],
   "source": [
    "two_logreg = Pipeline([('vect', CountVectorizer(ngram_range=(1, 2),preprocessor=preprocess_dataframe)),\n",
    "                     ('tfidf', TfidfTransformer()),\n",
    "                     ('clf', LogisticRegression()),\n",
    "                    ])\n",
    "\n",
    "two_logreg.fit(X_train, y_train)\n",
    "\n",
    "predicted2 = two_logreg.predict(X_test)\n",
    "print('Score:', np.mean(predicted2 == y_test), end='\\n')\n",
    "\n",
    "print(classification_report(y_test, predicted2,\n",
    "                                    target_names=party_names))"
   ]
  },
  {
   "cell_type": "markdown",
   "metadata": {},
   "source": [
    "**After downsizing the data to partys that have more speeches, I observed that my models' scores were rising. I also did logistic regression to the new dataframe but at the point where I reached the second model, there was a memory error and I could not perform it. Nevertheless, I am feeling confident with the first model where I could perform logistic regression because before the data downsizing it had a slightly better score than the second one.**"
   ]
  },
  {
   "cell_type": "code",
   "execution_count": null,
   "metadata": {},
   "outputs": [],
   "source": [
    "from sklearn.dummy import DummyClassifier\n",
    "\n",
    "one_dummy = Pipeline([('vect', CountVectorizer(preprocessor=preprocess_dataframe)),\n",
    "                     ('tfidf', TfidfTransformer()),\n",
    "                     ('clf', DummyClassifier()),\n",
    "                    ])\n",
    "\n",
    "one_dummy.fit(X_train, y_train)\n",
    "\n",
    "predicted_1dummy = one_dummy.predict(X_test)\n",
    "print('Score:', np.mean(predicted_1dummy == y_test), end='\\n')\n",
    "\n",
    "print(classification_report(y_test, predicted_1dummy,\n",
    "                                    target_names=party_names))"
   ]
  },
  {
   "cell_type": "code",
   "execution_count": null,
   "metadata": {},
   "outputs": [],
   "source": [
    "from sklearn.dummy import DummyClassifier\n",
    "\n",
    "two_dummy = Pipeline([('vect', CountVectorizer(ngram_range=(1, 2),preprocessor=preprocess_dataframe)),\n",
    "                     ('tfidf', TfidfTransformer()),\n",
    "                     ('clf', DummyClassifier()),\n",
    "                    ])\n",
    "\n",
    "two_dummy.fit(X_train, y_train)\n",
    "\n",
    "predicted_2dummy =two_dummy.predict(X_test)\n",
    "print('Score:', np.mean(predicted_2dummy == y_test), end='\\n')\n",
    "\n",
    "print(classification_report(y_test, predicted_2dummy,\n",
    "                                    target_names=party_names))"
   ]
  },
  {
   "cell_type": "markdown",
   "metadata": {},
   "source": [
    "**Seeing that the dummy classifier gave accuray of 26% which is almost halph from the 50% accuracy we managed from our best model (one_logreg) shows that I am in a good path and doing a good job.**"
   ]
  },
  {
   "cell_type": "markdown",
   "metadata": {},
   "source": [
    "### Grid search logistic regression"
   ]
  },
  {
   "cell_type": "code",
   "execution_count": null,
   "metadata": {},
   "outputs": [],
   "source": [
    "from sklearn.model_selection import GridSearchCV\n",
    "from sklearn.linear_model import LogisticRegression\n",
    "\n",
    "gridlog = Pipeline([\n",
    "    ('vect', CountVectorizer()),\n",
    "    ('tfidf', TfidfTransformer()),\n",
    "    ('clf', LogisticRegression())])\n",
    "\n",
    "parameters = {\n",
    "  'clf__C': (0.001,1,1000)\n",
    "  \n",
    "}\n",
    "\n",
    "gs_one_logreg = GridSearchCV(gridlog, parameters, n_jobs=-1)\n",
    "\n",
    "gs_one_logreg.fit(X_train, y_train)\n",
    "\n",
    "best_parameters = gs_one_logreg.best_estimator_.get_params()\n",
    "print('Best parameters:')\n",
    "for param_name in parameters.keys():\n",
    "    print(\"\\t%s: %r\" % (param_name, best_parameters[param_name]))"
   ]
  },
  {
   "cell_type": "markdown",
   "metadata": {},
   "source": [
    "**Now I have completed the hyperparameter tuning in logistic regression. I had changed the max iter in previous tries but it would not work due to memory limit.**"
   ]
  },
  {
   "cell_type": "code",
   "execution_count": null,
   "metadata": {},
   "outputs": [],
   "source": [
    "from sklearn.model_selection import GridSearchCV\n",
    "\n",
    "\n",
    "gridmult = Pipeline([\n",
    "    ('vect', CountVectorizer()),\n",
    "    ('tfidf', TfidfTransformer()),\n",
    "    ('clf', MultinomialNB())])\n",
    "\n",
    "parameters = {\n",
    "  'clf__alpha': (0,1,2,3,4,5)\n",
    "  'vec__max_df': (0.5,0.75,1)\n",
    "  'vec__min_df': (1,5,10,20,50) \n",
    " \n",
    "}\n",
    "\n",
    "gs_gridmult = GridSearchCV(gridmult, parameters, n_jobs=-1)\n",
    "\n",
    "gs_gridmult.fit(X_train, y_train)\n",
    "\n",
    "best_parameters = gridmult.best_estimator_.get_params()\n",
    "print('Best parameters:')\n",
    "for param_name in parameters.keys():\n",
    "    print(\"\\t%s: %r\" % (param_name, best_parameters[param_name]))"
   ]
  },
  {
   "cell_type": "code",
   "execution_count": null,
   "metadata": {},
   "outputs": [],
   "source": []
  }
 ],
 "metadata": {
  "kernelspec": {
   "display_name": "Python 3",
   "language": "python",
   "name": "python3"
  },
  "language_info": {
   "codemirror_mode": {
    "name": "ipython",
    "version": 3
   },
   "file_extension": ".py",
   "mimetype": "text/x-python",
   "name": "python",
   "nbconvert_exporter": "python",
   "pygments_lexer": "ipython3",
   "version": "3.8.5"
  }
 },
 "nbformat": 4,
 "nbformat_minor": 4
}
